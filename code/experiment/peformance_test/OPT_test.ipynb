{
 "cells": [
  {
   "cell_type": "code",
   "execution_count": 1,
   "metadata": {
    "colab": {
     "base_uri": "https://localhost:8080/"
    },
    "executionInfo": {
     "elapsed": 17136,
     "status": "ok",
     "timestamp": 1650913573935,
     "user": {
      "displayName": "Yikun Bai",
      "userId": "09694454376427194239"
     },
     "user_tz": 300
    },
    "id": "S4jwoNbfef-J",
    "outputId": "544b01ce-93a6-4503-c383-ff7b2eb3d566"
   },
   "outputs": [
    {
     "name": "stdout",
     "output_type": "stream",
     "text": [
      "Mounted at /content/drive\n"
     ]
    }
   ],
   "source": [
    "from google.colab import drive\n",
    "drive.mount('/content/drive')\n",
    "\n"
   ]
  },
  {
   "cell_type": "code",
   "execution_count": 2,
   "metadata": {
    "executionInfo": {
     "elapsed": 1371,
     "status": "ok",
     "timestamp": 1650913575303,
     "user": {
      "displayName": "Yikun Bai",
      "userId": "09694454376427194239"
     },
     "user_tz": 300
    },
    "id": "Z_Bqh1digIeI"
   },
   "outputs": [],
   "source": [
    "import os\n",
    "os.getcwd()\n",
    "lab_path='/content/drive/MyDrive/Github/Yikun-Bai/Sliced Optimal Partial Transport/Code/sopt'\n",
    "os.chdir(lab_path)\n"
   ]
  },
  {
   "cell_type": "code",
   "execution_count": 3,
   "metadata": {
    "colab": {
     "base_uri": "https://localhost:8080/"
    },
    "executionInfo": {
     "elapsed": 3768,
     "status": "ok",
     "timestamp": 1650913579068,
     "user": {
      "displayName": "Yikun Bai",
      "userId": "09694454376427194239"
     },
     "user_tz": 300
    },
    "id": "sK54TiqIDSiu",
    "outputId": "acfea928-a5f4-4a91-a681-9ace71742485"
   },
   "outputs": [
    {
     "name": "stdout",
     "output_type": "stream",
     "text": [
      "Collecting POT\n",
      "  Downloading POT-0.8.2-cp37-cp37m-manylinux_2_12_x86_64.manylinux2010_x86_64.whl (664 kB)\n",
      "\u001b[K     |████████████████████████████████| 664 kB 14.9 MB/s eta 0:00:01\n",
      "\u001b[?25hRequirement already satisfied: numpy>=1.16 in /usr/local/lib/python3.7/dist-packages (from POT) (1.21.6)\n",
      "Requirement already satisfied: scipy>=1.0 in /usr/local/lib/python3.7/dist-packages (from POT) (1.4.1)\n",
      "Installing collected packages: POT\n",
      "Successfully installed POT-0.8.2\n"
     ]
    }
   ],
   "source": [
    "pip install POT"
   ]
  },
  {
   "cell_type": "code",
   "execution_count": 7,
   "metadata": {
    "executionInfo": {
     "elapsed": 203,
     "status": "ok",
     "timestamp": 1650913600104,
     "user": {
      "displayName": "Yikun Bai",
      "userId": "09694454376427194239"
     },
     "user_tz": 300
    },
    "id": "2LJtVeIhBJfg"
   },
   "outputs": [],
   "source": [
    "import torch\n",
    "import numpy as np \n",
    "import sys\n",
    "from opt import *\n",
    "from library import *\n",
    "import ot \n",
    "import matplotlib.pyplot as plt\n",
    "import time"
   ]
  },
  {
   "cell_type": "code",
   "execution_count": null,
   "metadata": {
    "colab": {
     "background_save": true
    },
    "id": "tcTZStg_Hhoz"
   },
   "outputs": [],
   "source": [
    "Lambda=8\n",
    "time1_list=[]\n",
    "time2_list=[]\n",
    "time3_list=[]\n",
    "time4_list=[]\n",
    "time5_list=[]\n",
    "\n",
    "start_n=10\n",
    "end_n=1000\n",
    "\n",
    "step=10\n",
    "k=3\n",
    "for n in range (start_n,end_n,step):\n",
    "    m=n+10\n",
    "    mu=np.ones(n)\n",
    "    nu=np.ones(m)\n",
    "    time1=0\n",
    "    time2=0\n",
    "    time3=0\n",
    "    time4=0\n",
    "    time5=0\n",
    "    for i in range (k):\n",
    "        X=np.random.uniform(0,20,size=n)\n",
    "        Y=np.random.uniform(5,30,size=m)\n",
    "        \n",
    "   \n",
    "        start_time = time.time()\n",
    "        X.sort()\n",
    "        Y.sort()    \n",
    "#        cost1,L1=opt_1d_v1(X,Y,Lambda)\n",
    "#        end_time = time.time()\n",
    "        time1+=end_time-start_time \n",
    "    \n",
    "        \n",
    "        start_time = time.time()\n",
    "        X.sort()\n",
    "        Y.sort()    \n",
    "        cost2,L2=opt_1d_v2(X,Y,Lambda)\n",
    "        end_time = time.time()\n",
    "        time2+=end_time-start_time\n",
    "    \n",
    "        start_time = time.time()\n",
    "        X.sort()\n",
    "        Y.sort()    \n",
    "        cost3,L3=pot_1d(X,Y)\n",
    "        end_time = time.time()\n",
    "        time3+=end_time-start_time\n",
    "    \n",
    "        L_y=[j for j in L2 if j>=0]\n",
    "        start_time = time.time()\n",
    "        M=cost_matrix(X,Y)\n",
    "        L4=ot.partial.entropic_partial_wasserstein(mu,nu,M,len(L_y))\n",
    "        end_time = time.time()\n",
    "        time4+=end_time-start_time\n",
    "    \n",
    "    \n",
    "\n",
    "    # start_time = time.time()\n",
    "    # M=cost_matrix(X,Y)\n",
    "    # L5=ot.partial.partial_wasserstein(mu,nu,M,len(L_y))\n",
    "    # end_time = time.time()\n",
    "    # time5=end_time-start_time\n",
    "    \n",
    "    \n",
    "#    time1_list.append(time1/k)\n",
    "    time2_list.append(time2/k)\n",
    "    time3_list.append(time3/k)\n",
    "    time4_list.append(time4/k)\n",
    "    # time5_list.append(time5)\n",
    "\n",
    "    \n",
    "    \n",
    "\n",
    "\n",
    "#plt.plot(range(start_n,end_n,step),time1_list,label='ours v1')\n"
   ]
  },
  {
   "cell_type": "code",
   "execution_count": 11,
   "metadata": {
    "colab": {
     "base_uri": "https://localhost:8080/",
     "height": 279
    },
    "executionInfo": {
     "elapsed": 251,
     "status": "ok",
     "timestamp": 1650914547571,
     "user": {
      "displayName": "Yikun Bai",
      "userId": "09694454376427194239"
     },
     "user_tz": 300
    },
    "id": "-90cL6S_LMvg",
    "outputId": "7b73f5ac-9f45-4196-e38f-5c2793ffc82e"
   },
   "outputs": [
    {
     "data": {
      "image/png": "[encoded data removed]",
      "text/plain": [
       "<Figure size 432x288 with 1 Axes>"
      ]
     },
     "metadata": {},
     "output_type": "display_data"
    }
   ],
   "source": [
    "plt.plot(range(start_n,end_n,step),time2_list,label='ours v2')\n",
    "plt.plot(range(start_n,end_n,step),time3_list,label='Partial OT')\n",
    "plt.plot(range(start_n,end_n,step),time4_list,label='Sinkhorn: python ot')\n",
    "#plt.plot(range(start_n,end_n,step),time5_list,label='LP: python ot')\n",
    "plt.xlabel(\"n: size of X\")\n",
    "plt.ylabel(\"runing time\")\n",
    "plt.legend(loc='best')\n",
    "plt.show()"
   ]
  }
 ],
 "metadata": {
  "accelerator": "GPU",
  "colab": {
   "authorship_tag": "ABX9TyMmXfrTwb1xN/85knKRs64W",
   "collapsed_sections": [],
   "machine_shape": "hm",
   "name": "OPT_test.ipynb",
   "provenance": [
    {
     "file_id": "1ms7jcu0qfxIScIPappIasYEUNikhdU3K",
     "timestamp": 1650501010128
    }
   ],
   "version": ""
  },
  "kernelspec": {
   "display_name": "Python 3 (ipykernel)",
   "language": "python",
   "name": "python3"
  },
  "language_info": {
   "codemirror_mode": {
    "name": "ipython",
    "version": 3
   },
   "file_extension": ".py",
   "mimetype": "text/x-python",
   "name": "python",
   "nbconvert_exporter": "python",
   "pygments_lexer": "ipython3",
   "version": "3.10.6"
  }
 },
 "nbformat": 4,
 "nbformat_minor": 4
}
