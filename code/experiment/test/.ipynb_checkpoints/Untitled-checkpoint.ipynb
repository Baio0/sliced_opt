{
 "cells": [
  {
   "cell_type": "code",
   "execution_count": 9,
   "id": "c99600a6-4848-44a9-bd06-46c40f6a11d0",
   "metadata": {},
   "outputs": [],
   "source": [
    "# -*- coding: utf-8 -*-\n",
    "\"\"\"\n",
    "Created on Sat Apr 23 13:11:13 2022\n",
    "\n",
    "@author: laoba\n",
    "\"\"\"\n",
    "\n",
    "\n",
    "import torch\n",
    "import numpy as np \n",
    "import os\n",
    "import sys\n",
    "import ot\n",
    "import matplotlib.pyplot as plt\n",
    "import time\n"
   ]
  },
  {
   "cell_type": "code",
   "execution_count": 10,
   "id": "122d22c9-3993-42b2-ad1e-cfb96899e58f",
   "metadata": {},
   "outputs": [],
   "source": [
    "parent_path='/home/baly/projects/Sliced_opt/code'\n",
    "sys.path.append(parent_path)\n",
    "os.chdir(parent_path)\n",
    "from sopt.library import *\n",
    "from sopt.lib_ot import *   \n",
    "from sopt.opt import pot  "
   ]
  },
  {
   "cell_type": "code",
   "execution_count": 11,
   "id": "fdc7e3b7-e543-45d8-bcd0-c62b30dfb790",
   "metadata": {},
   "outputs": [
    {
     "name": "stdout",
     "output_type": "stream",
     "text": [
      "25\n"
     ]
    }
   ],
   "source": [
    "test()"
   ]
  },
  {
   "cell_type": "code",
   "execution_count": 12,
   "id": "27498851-d27c-4a55-90c1-14ed63e39283",
   "metadata": {},
   "outputs": [
    {
     "name": "stdout",
     "output_type": "stream",
     "text": [
      "50\n",
      "60\n",
      "70\n"
     ]
    },
    {
     "data": {
      "image/png": "[encoded data removed]",
      "text/plain": [
       "<Figure size 640x480 with 1 Axes>"
      ]
     },
     "metadata": {},
     "output_type": "display_data"
    }
   ],
   "source": [
    "\n",
    "Lambda=100000.0\n",
    "\n",
    "start_n=50\n",
    "end_n=80\n",
    "step=10\n",
    "n_list=np.array(range(start_n,end_n,step))\n",
    "N=n_list.shape[0]\n",
    "k=5\n",
    "\n",
    "cost_pot_list=np.zeros((N,k))\n",
    "cost_lp_list=np.zeros((N,k))\n",
    "for i in range (N):\n",
    "    n=n_list[i]\n",
    "    print(n)\n",
    "    m=n+0\n",
    "    for j in range(k):\n",
    "        X=np.random.uniform(-20,20,n).astype(np.float32)\n",
    "        # np.random.seed(m)\n",
    "        Y=np.random.uniform(-40,40,m).astype(np.float32)\n",
    "        X.sort()\n",
    "        Y.sort()\n",
    "        mu=np.ones(n)\n",
    "        nu=np.ones(m)    \n",
    "        M=cost_matrix(X,Y)\n",
    "    #   cost_v2-=Lambda*np.sum(n-np.sum(L_v2>=0))\n",
    "        numItermax=max(300000*n/1000,300000)\n",
    "        cost_lp,L_lp=opt_lp(X,Y,Lambda,numItermax=numItermax)\n",
    "        mass_lp=np.sum(L_lp)\n",
    "        cost_lp=np.sum(M*L_lp) #+Lambda*(n-mass_lp)\n",
    "        cost_lp_list[i,j]=cost_lp\n",
    "\n",
    "        cost,L=pot(X,Y)\n",
    "        L_pot=array_to_matrix(L,m)\n",
    "        mass_pot=np.sum(L_pot)\n",
    "        cost_pot=np.sum(M*L_pot) #+Lambda*(n-mass_pot)\n",
    "\n",
    "        cost_pot_list[i,j]=cost_pot\n",
    "        if abs(cost_pot-cost_lp)>1e-4:\n",
    "            print('error')\n",
    "            X0=X.copy()\n",
    "            Y0=Y.copy()\n",
    "#                break\n",
    "#     else:\n",
    "#         continue \n",
    "# else:\n",
    "#     continue\n",
    "\n",
    "\n",
    "\n",
    "error_pot_lp=abs(cost_pot_list-cost_lp_list)/n_list.reshape(N,1)\n",
    "error_pot_lp_mean=error_pot_lp.mean(1)\n",
    "error_pot_lp_std=error_pot_lp.std(1)\n",
    "# error_v2a_lp=abs(cost_v2a_list-cost_lp_list)/n_list.reshape(N,1)\n",
    "# error_v2a_lp_mean=error_v2a_lp.mean(1)\n",
    "# error_v2a_lp_std=error_v2a_lp.std(1)*(k-1)/k\n",
    "\n",
    "#     fig = plt.figure()\n",
    "#     ax = plt.subplot(111)\n",
    "#     plt.plot(n_list,cost_v2_list/n_list,linewidth=3,label='ours')\n",
    "#     plt.plot(n_list,cost_v2_a_list/n_list,label='ours-apro')\n",
    "#     plt.plot(n_list,cost_pr_list/n_list,linewidth=2,label='Lp (primal): python OT')\n",
    "#     plt.plot(n_list,cost_lp_list/n_list,label='Lp: python OT')\n",
    "#     #lt.plot(range(start_n,end_n,step),cost_lp_list,label='Sinkhorn: python OT')\n",
    "#     plt.xlabel(\"n: size of X\")\n",
    "#     plt.ylabel(\"normalized OPT distance\")\n",
    "#     box = ax.get_position()\n",
    "#     ax.set_position([box.x0, box.y0 + box.height * 0.1,\n",
    "#                       box.width, box.height * 0.9])\n",
    "#     plt.legend(loc='upper center',bbox_to_anchor=(0.5, 1.2),\n",
    "#               fancybox=True, shadow=True, ncol=3)\n",
    "# #    plt.savefig(\"myImage.png\", format=\"png\", dpi=resolution_value)\n",
    "#     plt.savefig('experiment/test/results/accuracy'+str(Lambda)+'.png',format=\"png\",dpi=2000,bbox_inches='tight')\n",
    "#     plt.show()\n",
    "\n",
    "\n",
    "fig = plt.figure(1)\n",
    "ax = plt.subplot(111)\n",
    "plt.plot(n_list,error_pot_lp_mean,'-',c='blue',label='error |new-lp|')\n",
    "plt.fill_between(n_list,error_pot_lp_mean-1*error_pot_lp_std,error_pot_lp_mean+1*error_pot_lp_std,alpha=0.3)\n",
    "\n",
    "#    plt.plot(n_list,error_v2a_lp_mean,'-',label='error |outs_a-lp|',c='C1')\n",
    "#    plt.fill_between(n_list,error_v2a_lp_mean-1*error_v2a_lp_std,error_v2a_lp_mean+1*error_v2a_lp_std,alpha=0.3)\n",
    "\n",
    "plt.xlabel(\"n: size of X\")\n",
    "plt.ylabel(\"error\")\n",
    "box = ax.get_position()\n",
    "ax.set_position([box.x0, box.y0 + box.height * 0.1,\n",
    "                  box.width, box.height * 0.9])\n",
    "#    plt.legend(loc='upper center',bbox_to_anchor=(0.5, 1.13),              fancybox=True, shadow=True, ncol=3)\n",
    "plt.savefig('experiment/test/results/accuracy_error'+str(Lambda)+'.png',format=\"png\",dpi=800,bbox_inches='tight')\n",
    "plt.show()\n",
    "\n",
    "# cost_list={}\n",
    "# cost_list['cost_v2_list']=cost_v2_list\n",
    "# cost_list['cost_v2a_list']=cost_v2a_list \n",
    "# cost_list['cost_pr_list']=cost_pr_list\n",
    "# cost_list['cost_lp_list']=cost_lp_list\n",
    "# cost_list['cost_new_list']=cost_new_list\n",
    "# torch.save(cost_list,'experiment/test/results/accuracy_list'+str(Lambda)+'.pt')\n",
    "\n",
    "\n",
    "# for Lambda in Lambda_list:\n",
    "#     start_n=50\n",
    "#     end_n=1000\n",
    "#     step=5\n",
    "#     cost_list=torch.load('experiment/test/results/accuracy_list'+str(Lambda)+'.pt')\n",
    "#     cost_v2_list=cost_list['cost_v2_list']\n",
    "#     cost_v2_a_list=cost_list['cost_v2_a_list'] \n",
    "#     cost_pr_list=cost_list['cost_pr_list']\n",
    "#     cost_lp_list=cost_list['cost_lp_list']\n",
    "#     fig = plt.figure()\n",
    "#     ax = plt.subplot(111)\n",
    "#     plt.semilogy(range(start_n,end_n,step),cost_v2_list-cost_lp_list,'-',label='error |outs-lp|')\n",
    "#     plt.semilogy(range(start_n,end_n,step),cost_v2_a_list-cost_lp_list,label='error |ours_a-lp|')\n",
    "#     plt.xlabel(\"n: size of X\")\n",
    "#     plt.ylabel(\"error\")\n",
    "#     box = ax.get_position()\n",
    "#     ax.set_position([box.x0, box.y0 + box.height * 0.1,\n",
    "#                      box.width, box.height * 0.9])\n",
    "#     plt.legend(loc='upper center',bbox_to_anchor=(0.5, 1.13),\n",
    "#               fancybox=True, shadow=True, ncol=3)\n",
    "#     plt.savefig('experiment/test/results/accuracy_error'+str(Lambda)+'.png',format=\"png\",dpi=2000,bbox_inches='tight')\n",
    "#     plt.show()\n",
    "\n",
    "\n",
    "\n",
    "# plt.plot(range(start_n,end_n,10),time2_list,label='out OPT')\n",
    "# plt.plot(range(start_n,end_n,10),time3_list,label='Partial OT')\n",
    "# plt.plot(range(start_n,end_n,10),time4_list,label='Sinkhorn')\n",
    "# plt.xlabel(\"n: size of X\")\n",
    "# plt.ylabel(\"runing time\")\n",
    "# plt.legend(loc='best')\n",
    "# plt.show()"
   ]
  },
  {
   "cell_type": "code",
   "execution_count": 3,
   "id": "cf0c72bb-eb9c-48b5-83af-c1e09f808872",
   "metadata": {},
   "outputs": [
    {
     "ename": "NameError",
     "evalue": "name 'L_lp' is not defined",
     "output_type": "error",
     "traceback": [
      "\u001b[0;31m---------------------------------------------------------------------------\u001b[0m",
      "\u001b[0;31mNameError\u001b[0m                                 Traceback (most recent call last)",
      "Cell \u001b[0;32mIn [3], line 1\u001b[0m\n\u001b[0;32m----> 1\u001b[0m \u001b[43mL_lp\u001b[49m\u001b[38;5;241m.\u001b[39mshape\n",
      "\u001b[0;31mNameError\u001b[0m: name 'L_lp' is not defined"
     ]
    }
   ],
   "source": [
    "L_lp.shape"
   ]
  },
  {
   "cell_type": "code",
   "execution_count": 22,
   "id": "78ae7f18-fd23-42d6-b59e-7cfb493d0d14",
   "metadata": {},
   "outputs": [
    {
     "data": {
      "text/plain": [
       "60"
      ]
     },
     "execution_count": 22,
     "metadata": {},
     "output_type": "execute_result"
    }
   ],
   "source": [
    "n"
   ]
  },
  {
   "cell_type": "code",
   "execution_count": 23,
   "id": "16a37000-6f46-4be9-a2aa-08082df0cfec",
   "metadata": {},
   "outputs": [
    {
     "data": {
      "text/plain": [
       "60"
      ]
     },
     "execution_count": 23,
     "metadata": {},
     "output_type": "execute_result"
    }
   ],
   "source": [
    "m"
   ]
  },
  {
   "cell_type": "code",
   "execution_count": 24,
   "id": "75198450-5345-4390-996d-4e861ee82ffc",
   "metadata": {},
   "outputs": [
    {
     "data": {
      "text/plain": [
       "(50, 50)"
      ]
     },
     "execution_count": 24,
     "metadata": {},
     "output_type": "execute_result"
    }
   ],
   "source": [
    "M.shape"
   ]
  },
  {
   "cell_type": "code",
   "execution_count": null,
   "id": "18cd570d-8c94-422c-85d2-d855bf5f8d6e",
   "metadata": {},
   "outputs": [],
   "source": []
  },
  {
   "cell_type": "code",
   "execution_count": 12,
   "id": "cc65b962-5b48-4632-b280-18eb75ad5c6a",
   "metadata": {},
   "outputs": [
    {
     "name": "stdout",
     "output_type": "stream",
     "text": [
      "50\n",
      "60\n",
      "70\n"
     ]
    },
    {
     "data": {
      "image/png": "[encoded data removed]",
      "text/plain": [
       "<Figure size 640x480 with 1 Axes>"
      ]
     },
     "metadata": {},
     "output_type": "display_data"
    },
    {
     "name": "stdout",
     "output_type": "stream",
     "text": [
      "50\n",
      "60\n",
      "70\n"
     ]
    },
    {
     "data": {
      "image/png": "[encoded data removed]",
      "text/plain": [
       "<Figure size 640x480 with 1 Axes>"
      ]
     },
     "metadata": {},
     "output_type": "display_data"
    },
    {
     "name": "stdout",
     "output_type": "stream",
     "text": [
      "50\n",
      "60\n",
      "70\n"
     ]
    },
    {
     "data": {
      "image/png": "[encoded data removed]",
      "text/plain": [
       "<Figure size 640x480 with 1 Axes>"
      ]
     },
     "metadata": {},
     "output_type": "display_data"
    }
   ],
   "source": [
    "\n",
    "Lambda_list=np.array([10.0,50.0,100.0])\n",
    "\n",
    "start_n=50\n",
    "end_n=80\n",
    "step=10\n",
    "n_list=np.array(range(start_n,end_n,step))\n",
    "N=n_list.shape[0]\n",
    "k=5\n",
    "\n",
    "for Lambda in Lambda_list:\n",
    "    cost_v2_list=np.zeros((N,k))\n",
    "    cost_v2a_list=np.zeros((N,k))\n",
    "    cost_lp_list=np.zeros((N,k))\n",
    "    cost_pr_list=np.zeros((N,k))\n",
    "    cost_new_list=np.zeros((N,k))\n",
    "    for i in range (N):\n",
    "        n=n_list[i]\n",
    "        print(n)\n",
    "        m=n+0\n",
    "        for j in range(k):\n",
    "            X=np.random.uniform(-20,20,n)\n",
    "            # np.random.seed(m)\n",
    "            Y=np.random.uniform(-40,40,m)\n",
    "            X.sort()\n",
    "            Y.sort()\n",
    "            mu=np.ones(n)\n",
    "            nu=np.ones(m)    \n",
    "            M=cost_matrix(X,Y)\n",
    "\n",
    "\n",
    "        #   cost_v2-=Lambda*np.sum(n-np.sum(L_v2>=0))\n",
    "            numItermax=max(300000*n/1000,300000)\n",
    "            cost_lp,L_lp=opt_lp(X,Y,Lambda,numItermax=numItermax)\n",
    "            mass_lp=np.sum(L_lp)\n",
    "            cost_lp=np.sum(M*L_lp)+Lambda*(n-mass_lp)\n",
    "            cost_lp_list[i,j]=cost_lp\n",
    "    \n",
    "        #   L3=ot.partial.partial_wasserstein\n",
    "            # L_pr=ot.partial.partial_wasserstein(mu,nu,M,mass_lp,3500)\n",
    "            # cost_pr=np.sum(M*L_pr)+Lambda*(n-mass_lp)\n",
    "            # cost_pr_list[i,j]=cost_pr\n",
    "            \n",
    "            \n",
    "            M=cost_matrix(X,Y)\n",
    "            obj,phi,psi,piRow,piCol=solve_opt(M,Lambda)\n",
    "            L_new=getPiFromRow(n,m,piRow)\n",
    "            mass_new=np.sum(L_new)\n",
    "            cost_new=np.sum(M*L_new)+Lambda*(n-mass_new)\n",
    "            \n",
    "            cost_new_list[i,j]=cost_new\n",
    "            if abs(cost_new-cost_lp)>1e-4:\n",
    "                print('error')\n",
    "                X0=X.copy()\n",
    "                Y0=Y.copy()\n",
    "#                break\n",
    "    #     else:\n",
    "    #         continue \n",
    "    # else:\n",
    "    #     continue\n",
    "    \n",
    "\n",
    "        \n",
    "    error_v2_lp=abs(cost_new_list-cost_lp_list)/n_list.reshape(N,1)\n",
    "    error_v2_lp_mean=error_v2_lp.mean(1)\n",
    "    error_v2_lp_std=error_v2_lp.std(1)\n",
    "    # error_v2a_lp=abs(cost_v2a_list-cost_lp_list)/n_list.reshape(N,1)\n",
    "    # error_v2a_lp_mean=error_v2a_lp.mean(1)\n",
    "    # error_v2a_lp_std=error_v2a_lp.std(1)*(k-1)/k\n",
    "    \n",
    "#     fig = plt.figure()\n",
    "#     ax = plt.subplot(111)\n",
    "#     plt.plot(n_list,cost_v2_list/n_list,linewidth=3,label='ours')\n",
    "#     plt.plot(n_list,cost_v2_a_list/n_list,label='ours-apro')\n",
    "#     plt.plot(n_list,cost_pr_list/n_list,linewidth=2,label='Lp (primal): python OT')\n",
    "#     plt.plot(n_list,cost_lp_list/n_list,label='Lp: python OT')\n",
    "#     #lt.plot(range(start_n,end_n,step),cost_lp_list,label='Sinkhorn: python OT')\n",
    "#     plt.xlabel(\"n: size of X\")\n",
    "#     plt.ylabel(\"normalized OPT distance\")\n",
    "#     box = ax.get_position()\n",
    "#     ax.set_position([box.x0, box.y0 + box.height * 0.1,\n",
    "#                       box.width, box.height * 0.9])\n",
    "#     plt.legend(loc='upper center',bbox_to_anchor=(0.5, 1.2),\n",
    "#               fancybox=True, shadow=True, ncol=3)\n",
    "# #    plt.savefig(\"myImage.png\", format=\"png\", dpi=resolution_value)\n",
    "#     plt.savefig('experiment/test/results/accuracy'+str(Lambda)+'.png',format=\"png\",dpi=2000,bbox_inches='tight')\n",
    "#     plt.show()\n",
    "    \n",
    "    \n",
    "    fig = plt.figure(1)\n",
    "    ax = plt.subplot(111)\n",
    "    plt.plot(n_list,error_v2_lp_mean,'-',c='blue',label='error |new-lp|')\n",
    "    plt.fill_between(n_list,error_v2_lp_mean-1*error_v2_lp_std,error_v2_lp_mean+1*error_v2_lp_std,alpha=0.3)\n",
    "    \n",
    "#    plt.plot(n_list,error_v2a_lp_mean,'-',label='error |outs_a-lp|',c='C1')\n",
    "#    plt.fill_between(n_list,error_v2a_lp_mean-1*error_v2a_lp_std,error_v2a_lp_mean+1*error_v2a_lp_std,alpha=0.3)\n",
    "    \n",
    "    plt.xlabel(\"n: size of X\")\n",
    "    plt.ylabel(\"error\")\n",
    "    box = ax.get_position()\n",
    "    ax.set_position([box.x0, box.y0 + box.height * 0.1,\n",
    "                      box.width, box.height * 0.9])\n",
    "#    plt.legend(loc='upper center',bbox_to_anchor=(0.5, 1.13),              fancybox=True, shadow=True, ncol=3)\n",
    "    plt.savefig('experiment/test/results/accuracy_error'+str(Lambda)+'.png',format=\"png\",dpi=800,bbox_inches='tight')\n",
    "    plt.show()\n",
    "    \n",
    "    cost_list={}\n",
    "    cost_list['cost_v2_list']=cost_v2_list\n",
    "    cost_list['cost_v2a_list']=cost_v2a_list \n",
    "    cost_list['cost_pr_list']=cost_pr_list\n",
    "    cost_list['cost_lp_list']=cost_lp_list\n",
    "    cost_list['cost_new_list']=cost_new_list\n",
    "    torch.save(cost_list,'experiment/test/results/accuracy_list'+str(Lambda)+'.pt')\n",
    "\n",
    "\n",
    "# for Lambda in Lambda_list:\n",
    "#     start_n=50\n",
    "#     end_n=1000\n",
    "#     step=5\n",
    "#     cost_list=torch.load('experiment/test/results/accuracy_list'+str(Lambda)+'.pt')\n",
    "#     cost_v2_list=cost_list['cost_v2_list']\n",
    "#     cost_v2_a_list=cost_list['cost_v2_a_list'] \n",
    "#     cost_pr_list=cost_list['cost_pr_list']\n",
    "#     cost_lp_list=cost_list['cost_lp_list']\n",
    "#     fig = plt.figure()\n",
    "#     ax = plt.subplot(111)\n",
    "#     plt.semilogy(range(start_n,end_n,step),cost_v2_list-cost_lp_list,'-',label='error |outs-lp|')\n",
    "#     plt.semilogy(range(start_n,end_n,step),cost_v2_a_list-cost_lp_list,label='error |ours_a-lp|')\n",
    "#     plt.xlabel(\"n: size of X\")\n",
    "#     plt.ylabel(\"error\")\n",
    "#     box = ax.get_position()\n",
    "#     ax.set_position([box.x0, box.y0 + box.height * 0.1,\n",
    "#                      box.width, box.height * 0.9])\n",
    "#     plt.legend(loc='upper center',bbox_to_anchor=(0.5, 1.13),\n",
    "#               fancybox=True, shadow=True, ncol=3)\n",
    "#     plt.savefig('experiment/test/results/accuracy_error'+str(Lambda)+'.png',format=\"png\",dpi=2000,bbox_inches='tight')\n",
    "#     plt.show()\n",
    "    \n",
    "\n",
    "\n",
    "# plt.plot(range(start_n,end_n,10),time2_list,label='out OPT')\n",
    "# plt.plot(range(start_n,end_n,10),time3_list,label='Partial OT')\n",
    "# plt.plot(range(start_n,end_n,10),time4_list,label='Sinkhorn')\n",
    "# plt.xlabel(\"n: size of X\")\n",
    "# plt.ylabel(\"runing time\")\n",
    "# plt.legend(loc='best')\n",
    "# plt.show()"
   ]
  }
 ],
 "metadata": {
  "kernelspec": {
   "display_name": "Python 3 (ipykernel)",
   "language": "python",
   "name": "python3"
  },
  "language_info": {
   "codemirror_mode": {
    "name": "ipython",
    "version": 3
   },
   "file_extension": ".py",
   "mimetype": "text/x-python",
   "name": "python",
   "nbconvert_exporter": "python",
   "pygments_lexer": "ipython3",
   "version": "3.10.6"
  }
 },
 "nbformat": 4,
 "nbformat_minor": 5
}
