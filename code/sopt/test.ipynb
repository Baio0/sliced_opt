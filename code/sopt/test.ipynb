{
 "cells": [
  {
   "cell_type": "code",
   "execution_count": 3,
   "id": "1671e6df-76ff-4f02-8d4f-0f645b02645e",
   "metadata": {},
   "outputs": [
    {
     "name": "stderr",
     "output_type": "stream",
     "text": [
      "/home/baly/projects/Sliced_opt/code/sopt/sliced_opt.py:125: NumbaPerformanceWarning: np.dot() is faster on contiguous arrays, called on (array(float64, 1d, A), array(float64, 2d, A))\n",
      "  X_theta=np.dot(theta,X.T)\n",
      "/home/baly/projects/Sliced_opt/code/sopt/sliced_opt.py:226: NumbaPerformanceWarning: np.dot() is faster on contiguous arrays, called on (array(float32, 1d, A), array(float32, 2d, A))\n",
      "  X_theta=np.dot(theta,X.T)\n"
     ]
    }
   ],
   "source": [
    "import sys\n",
    "from mpl_toolkits import mplot3d\n",
    "from mpl_toolkits.mplot3d import Axes3D\n",
    "import os\n",
    "import matplotlib.pyplot as plt\n",
    "import numpy as np\n",
    "import ot\n",
    "import time\n",
    "import numba\n",
    "\n",
    "parent_path='/home/baly/projects/Sliced_opt/code'\n",
    "sys.path.append(parent_path)\n",
    "os.chdir(parent_path)\n",
    "from sopt.library import *\n",
    "from sopt.lib_shape import *\n",
    "from sopt.lib_ot import *   \n",
    "from sopt.sliced_opt import *  \n"
   ]
  },
  {
   "cell_type": "code",
   "execution_count": null,
   "id": "54e8d674-1715-40ac-b60a-738420fe2f9c",
   "metadata": {},
   "outputs": [],
   "source": []
  },
  {
   "cell_type": "code",
   "execution_count": 29,
   "id": "29f254c2-4a8f-4e62-a427-88152f9c4a22",
   "metadata": {},
   "outputs": [],
   "source": [
    "A=np.ran"
   ]
  },
  {
   "cell_type": "code",
   "execution_count": 30,
   "id": "6ca4e2a9-d2af-4f6e-b5b5-2d310ac61e27",
   "metadata": {},
   "outputs": [
    {
     "name": "stdout",
     "output_type": "stream",
     "text": [
      "3.962059259414673\n",
      "hello\n"
     ]
    }
   ],
   "source": [
    "start=time.time()\n",
    "for k in range(10):\n",
    "#    A=np.random.rand(5000,3)\n",
    "    B=np.random.rand(10000,3)\n",
    "end=time.time()\n",
    "print(end-start)\n",
    "print('hello')"
   ]
  },
  {
   "cell_type": "code",
   "execution_count": 31,
   "id": "5e860ed2-040e-444b-a3e7-08a4f60474c8",
   "metadata": {},
   "outputs": [
    {
     "name": "stdout",
     "output_type": "stream",
     "text": [
      "35.21555423736572\n"
     ]
    }
   ],
   "source": [
    "start=time.time()\n",
    "for k in range(10):\n",
    "    A=np.random.rand(5000,3)\n",
    "    B=np.random.rand(10000,3)\n",
    "    cost_matrix_d(A,B)\n",
    "end=time.time()\n",
    "print(end-start)"
   ]
  },
  {
   "cell_type": "code",
   "execution_count": null,
   "id": "83b2bd5b-a6b9-446f-9bbf-170ae921b409",
   "metadata": {},
   "outputs": [],
   "source": []
  }
 ],
 "metadata": {
  "kernelspec": {
   "display_name": "Python 3 (ipykernel)",
   "language": "python",
   "name": "python3"
  },
  "language_info": {
   "codemirror_mode": {
    "name": "ipython",
    "version": 3
   },
   "file_extension": ".py",
   "mimetype": "text/x-python",
   "name": "python",
   "nbconvert_exporter": "python",
   "pygments_lexer": "ipython3",
   "version": "3.10.6"
  }
 },
 "nbformat": 4,
 "nbformat_minor": 5
}
