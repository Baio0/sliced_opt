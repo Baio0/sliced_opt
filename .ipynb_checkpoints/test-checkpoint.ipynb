{
 "cells": [
  {
   "cell_type": "code",
   "execution_count": 1,
   "id": "ccc01dbe-28e4-428e-82d3-9160fd8b653f",
   "metadata": {},
   "outputs": [
    {
     "name": "stdout",
     "output_type": "stream",
     "text": [
      "/home/baly/projects/sliced_opt/code/sopt\n"
     ]
    }
   ],
   "source": [
    "import sys\n",
    "from mpl_toolkits import mplot3d\n",
    "from mpl_toolkits.mplot3d import Axes3D\n",
    "import os\n",
    "import matplotlib.pyplot as plt\n",
    "import numpy as np\n",
    "import ot\n",
    "import time\n",
    "import numba\n",
    "import numpy as np\n",
    "print(os.getcwd())\n",
    "os.chdir('/home/baly/projects/sliced_opt')\n",
    "from sopt.library import *\n",
    "from sopt.lib_ot import * "
   ]
  },
  {
   "cell_type": "code",
   "execution_count": 2,
   "id": "f1cd90a3-bb93-427d-ab36-9705598f4a92",
   "metadata": {},
   "outputs": [],
   "source": [
    "from cvxopt import matrix, solvers"
   ]
  },
  {
   "cell_type": "code",
   "execution_count": 47,
   "id": "e1531446-de03-4aa3-ab2c-eadf32d81bd0",
   "metadata": {},
   "outputs": [],
   "source": [
    "pi=np.array([[1,2],[3,4]])\n",
    "pi.reshape(-1)\n",
    "X=np.random.rand(2)\n",
    "Y=np.random.rand(3)\n",
    "M=cost_matrix(X,Y)\n",
    "mu=np.ones(3)/3\n",
    "nu=np.ones(2)/2\n",
    "eps=1"
   ]
  },
  {
   "cell_type": "code",
   "execution_count": 48,
   "id": "930b6d60-2cbe-401f-9271-b6a58bcb3f87",
   "metadata": {},
   "outputs": [
    {
     "ename": "ValueError",
     "evalue": "Rank(A) < p or Rank([G; A]) < n",
     "output_type": "error",
     "traceback": [
      "\u001b[0;31m---------------------------------------------------------------------------\u001b[0m",
      "\u001b[0;31mArithmeticError\u001b[0m                           Traceback (most recent call last)",
      "File \u001b[0;32m~/miniconda3/envs/pot/lib/python3.10/site-packages/cvxopt/misc.py:1429\u001b[0m, in \u001b[0;36mkkt_chol2.<locals>.factor\u001b[0;34m(W, H, Df)\u001b[0m\n\u001b[1;32m   1428\u001b[0m \u001b[38;5;28;01mif\u001b[39;00m \u001b[38;5;28mtype\u001b[39m(F[\u001b[38;5;124m'\u001b[39m\u001b[38;5;124mS\u001b[39m\u001b[38;5;124m'\u001b[39m]) \u001b[38;5;129;01mis\u001b[39;00m matrix: \n\u001b[0;32m-> 1429\u001b[0m     \u001b[43mlapack\u001b[49m\u001b[38;5;241;43m.\u001b[39;49m\u001b[43mpotrf\u001b[49m\u001b[43m(\u001b[49m\u001b[43mF\u001b[49m\u001b[43m[\u001b[49m\u001b[38;5;124;43m'\u001b[39;49m\u001b[38;5;124;43mS\u001b[39;49m\u001b[38;5;124;43m'\u001b[39;49m\u001b[43m]\u001b[49m\u001b[43m)\u001b[49m \n\u001b[1;32m   1430\u001b[0m \u001b[38;5;28;01melse\u001b[39;00m:\n",
      "\u001b[0;31mArithmeticError\u001b[0m: 2",
      "\nDuring handling of the above exception, another exception occurred:\n",
      "\u001b[0;31mArithmeticError\u001b[0m                           Traceback (most recent call last)",
      "File \u001b[0;32m~/miniconda3/envs/pot/lib/python3.10/site-packages/cvxopt/coneprog.py:680\u001b[0m, in \u001b[0;36mconelp\u001b[0;34m(c, G, h, dims, A, b, primalstart, dualstart, kktsolver, xnewcopy, xdot, xaxpy, xscal, ynewcopy, ydot, yaxpy, yscal, **kwargs)\u001b[0m\n\u001b[1;32m    679\u001b[0m \u001b[38;5;28;01mfor\u001b[39;00m rti \u001b[38;5;129;01min\u001b[39;00m W[\u001b[38;5;124m'\u001b[39m\u001b[38;5;124mrti\u001b[39m\u001b[38;5;124m'\u001b[39m]: rti[::rti\u001b[38;5;241m.\u001b[39msize[\u001b[38;5;241m0\u001b[39m]\u001b[38;5;241m+\u001b[39m\u001b[38;5;241m1\u001b[39m ] \u001b[38;5;241m=\u001b[39m \u001b[38;5;241m1.0\u001b[39m\n\u001b[0;32m--> 680\u001b[0m \u001b[38;5;28;01mtry\u001b[39;00m: f \u001b[38;5;241m=\u001b[39m \u001b[43mkktsolver\u001b[49m\u001b[43m(\u001b[49m\u001b[43mW\u001b[49m\u001b[43m)\u001b[49m\n\u001b[1;32m    681\u001b[0m \u001b[38;5;28;01mexcept\u001b[39;00m \u001b[38;5;167;01mArithmeticError\u001b[39;00m:\n",
      "File \u001b[0;32m~/miniconda3/envs/pot/lib/python3.10/site-packages/cvxopt/coneprog.py:585\u001b[0m, in \u001b[0;36mconelp.<locals>.kktsolver\u001b[0;34m(W)\u001b[0m\n\u001b[1;32m    584\u001b[0m \u001b[38;5;28;01mdef\u001b[39;00m \u001b[38;5;21mkktsolver\u001b[39m(W):\n\u001b[0;32m--> 585\u001b[0m     \u001b[38;5;28;01mreturn\u001b[39;00m \u001b[43mfactor\u001b[49m\u001b[43m(\u001b[49m\u001b[43mW\u001b[49m\u001b[43m)\u001b[49m\n",
      "File \u001b[0;32m~/miniconda3/envs/pot/lib/python3.10/site-packages/cvxopt/misc.py:1444\u001b[0m, in \u001b[0;36mkkt_chol2.<locals>.factor\u001b[0;34m(W, H, Df)\u001b[0m\n\u001b[1;32m   1443\u001b[0m \u001b[38;5;28;01mif\u001b[39;00m \u001b[38;5;28mtype\u001b[39m(F[\u001b[38;5;124m'\u001b[39m\u001b[38;5;124mS\u001b[39m\u001b[38;5;124m'\u001b[39m]) \u001b[38;5;129;01mis\u001b[39;00m matrix: \n\u001b[0;32m-> 1444\u001b[0m     \u001b[43mlapack\u001b[49m\u001b[38;5;241;43m.\u001b[39;49m\u001b[43mpotrf\u001b[49m\u001b[43m(\u001b[49m\u001b[43mF\u001b[49m\u001b[43m[\u001b[49m\u001b[38;5;124;43m'\u001b[39;49m\u001b[38;5;124;43mS\u001b[39;49m\u001b[38;5;124;43m'\u001b[39;49m\u001b[43m]\u001b[49m\u001b[43m)\u001b[49m \n\u001b[1;32m   1445\u001b[0m \u001b[38;5;28;01melse\u001b[39;00m:\n",
      "\u001b[0;31mArithmeticError\u001b[0m: 2",
      "\nDuring handling of the above exception, another exception occurred:\n",
      "\u001b[0;31mValueError\u001b[0m                                Traceback (most recent call last)",
      "Cell \u001b[0;32mIn [48], line 12\u001b[0m\n\u001b[1;32m     10\u001b[0m b_x\u001b[38;5;241m=\u001b[39mmatrix(b)\n\u001b[1;32m     11\u001b[0m c_x\u001b[38;5;241m=\u001b[39mmatrix(c)\n\u001b[0;32m---> 12\u001b[0m sol\u001b[38;5;241m=\u001b[39m\u001b[43msolvers\u001b[49m\u001b[38;5;241;43m.\u001b[39;49m\u001b[43mlp\u001b[49m\u001b[43m(\u001b[49m\u001b[43mc_x\u001b[49m\u001b[43m,\u001b[49m\u001b[43mA_x\u001b[49m\u001b[43m,\u001b[49m\u001b[43mb_x\u001b[49m\u001b[43m)\u001b[49m\n\u001b[1;32m     13\u001b[0m pi\u001b[38;5;241m=\u001b[39msol[\u001b[38;5;124m'\u001b[39m\u001b[38;5;124mx\u001b[39m\u001b[38;5;124m'\u001b[39m]\n\u001b[1;32m     14\u001b[0m pi\u001b[38;5;241m=\u001b[39mpi\u001b[38;5;241m.\u001b[39mreshape((n,m))\n",
      "File \u001b[0;32m~/miniconda3/envs/pot/lib/python3.10/site-packages/cvxopt/coneprog.py:3009\u001b[0m, in \u001b[0;36mlp\u001b[0;34m(c, G, h, A, b, kktsolver, solver, primalstart, dualstart, **kwargs)\u001b[0m\n\u001b[1;32m   2999\u001b[0m         pslack, dslack \u001b[38;5;241m=\u001b[39m \u001b[38;5;28;01mNone\u001b[39;00m, \u001b[38;5;28;01mNone\u001b[39;00m\n\u001b[1;32m   3001\u001b[0m     \u001b[38;5;28;01mreturn\u001b[39;00m {\u001b[38;5;124m'\u001b[39m\u001b[38;5;124mstatus\u001b[39m\u001b[38;5;124m'\u001b[39m: status, \u001b[38;5;124m'\u001b[39m\u001b[38;5;124mx\u001b[39m\u001b[38;5;124m'\u001b[39m: x, \u001b[38;5;124m'\u001b[39m\u001b[38;5;124ms\u001b[39m\u001b[38;5;124m'\u001b[39m: s, \u001b[38;5;124m'\u001b[39m\u001b[38;5;124my\u001b[39m\u001b[38;5;124m'\u001b[39m: y, \u001b[38;5;124m'\u001b[39m\u001b[38;5;124mz\u001b[39m\u001b[38;5;124m'\u001b[39m: z,\n\u001b[1;32m   3002\u001b[0m         \u001b[38;5;124m'\u001b[39m\u001b[38;5;124mprimal objective\u001b[39m\u001b[38;5;124m'\u001b[39m: pcost, \u001b[38;5;124m'\u001b[39m\u001b[38;5;124mdual objective\u001b[39m\u001b[38;5;124m'\u001b[39m: dcost,\n\u001b[1;32m   3003\u001b[0m         \u001b[38;5;124m'\u001b[39m\u001b[38;5;124mgap\u001b[39m\u001b[38;5;124m'\u001b[39m: gap, \u001b[38;5;124m'\u001b[39m\u001b[38;5;124mrelative gap\u001b[39m\u001b[38;5;124m'\u001b[39m: relgap,\n\u001b[0;32m   (...)\u001b[0m\n\u001b[1;32m   3006\u001b[0m         \u001b[38;5;124m'\u001b[39m\u001b[38;5;124mresidual as dual infeasibility certificate\u001b[39m\u001b[38;5;124m'\u001b[39m: dinfres,\n\u001b[1;32m   3007\u001b[0m         \u001b[38;5;124m'\u001b[39m\u001b[38;5;124mprimal slack\u001b[39m\u001b[38;5;124m'\u001b[39m: pslack, \u001b[38;5;124m'\u001b[39m\u001b[38;5;124mdual slack\u001b[39m\u001b[38;5;124m'\u001b[39m: dslack}\n\u001b[0;32m-> 3009\u001b[0m \u001b[38;5;28;01mreturn\u001b[39;00m \u001b[43mconelp\u001b[49m\u001b[43m(\u001b[49m\u001b[43mc\u001b[49m\u001b[43m,\u001b[49m\u001b[43m \u001b[49m\u001b[43mG\u001b[49m\u001b[43m,\u001b[49m\u001b[43m \u001b[49m\u001b[43mh\u001b[49m\u001b[43m,\u001b[49m\u001b[43m \u001b[49m\u001b[43m{\u001b[49m\u001b[38;5;124;43m'\u001b[39;49m\u001b[38;5;124;43ml\u001b[39;49m\u001b[38;5;124;43m'\u001b[39;49m\u001b[43m:\u001b[49m\u001b[43m \u001b[49m\u001b[43mm\u001b[49m\u001b[43m,\u001b[49m\u001b[43m \u001b[49m\u001b[38;5;124;43m'\u001b[39;49m\u001b[38;5;124;43mq\u001b[39;49m\u001b[38;5;124;43m'\u001b[39;49m\u001b[43m:\u001b[49m\u001b[43m \u001b[49m\u001b[43m[\u001b[49m\u001b[43m]\u001b[49m\u001b[43m,\u001b[49m\u001b[43m \u001b[49m\u001b[38;5;124;43m'\u001b[39;49m\u001b[38;5;124;43ms\u001b[39;49m\u001b[38;5;124;43m'\u001b[39;49m\u001b[43m:\u001b[49m\u001b[43m \u001b[49m\u001b[43m[\u001b[49m\u001b[43m]\u001b[49m\u001b[43m}\u001b[49m\u001b[43m,\u001b[49m\u001b[43m \u001b[49m\u001b[43mA\u001b[49m\u001b[43m,\u001b[49m\u001b[43m  \u001b[49m\u001b[43mb\u001b[49m\u001b[43m,\u001b[49m\u001b[43m \u001b[49m\u001b[43mprimalstart\u001b[49m\u001b[43m,\u001b[49m\n\u001b[1;32m   3010\u001b[0m \u001b[43m    \u001b[49m\u001b[43mdualstart\u001b[49m\u001b[43m,\u001b[49m\u001b[43m \u001b[49m\u001b[43mkktsolver\u001b[49m\u001b[43m \u001b[49m\u001b[38;5;241;43m=\u001b[39;49m\u001b[43m \u001b[49m\u001b[43mkktsolver\u001b[49m\u001b[43m,\u001b[49m\u001b[43m \u001b[49m\u001b[43moptions\u001b[49m\u001b[43m \u001b[49m\u001b[38;5;241;43m=\u001b[39;49m\u001b[43m \u001b[49m\u001b[43moptions\u001b[49m\u001b[43m)\u001b[49m\n",
      "File \u001b[0;32m~/miniconda3/envs/pot/lib/python3.10/site-packages/cvxopt/coneprog.py:682\u001b[0m, in \u001b[0;36mconelp\u001b[0;34m(c, G, h, dims, A, b, primalstart, dualstart, kktsolver, xnewcopy, xdot, xaxpy, xscal, ynewcopy, ydot, yaxpy, yscal, **kwargs)\u001b[0m\n\u001b[1;32m    680\u001b[0m     \u001b[38;5;28;01mtry\u001b[39;00m: f \u001b[38;5;241m=\u001b[39m kktsolver(W)\n\u001b[1;32m    681\u001b[0m     \u001b[38;5;28;01mexcept\u001b[39;00m \u001b[38;5;167;01mArithmeticError\u001b[39;00m:\n\u001b[0;32m--> 682\u001b[0m         \u001b[38;5;28;01mraise\u001b[39;00m \u001b[38;5;167;01mValueError\u001b[39;00m(\u001b[38;5;124m\"\u001b[39m\u001b[38;5;124mRank(A) < p or Rank([G; A]) < n\u001b[39m\u001b[38;5;124m\"\u001b[39m)\n\u001b[1;32m    684\u001b[0m \u001b[38;5;28;01mif\u001b[39;00m primalstart \u001b[38;5;129;01mis\u001b[39;00m \u001b[38;5;28;01mNone\u001b[39;00m:\n\u001b[1;32m    685\u001b[0m \n\u001b[1;32m    686\u001b[0m     \u001b[38;5;66;03m# minimize    || G * x - h ||^2\u001b[39;00m\n\u001b[0;32m   (...)\u001b[0m\n\u001b[1;32m    692\u001b[0m     \u001b[38;5;66;03m#     [ A   0   0  ] * [ dy ] = [ b ].\u001b[39;00m\n\u001b[1;32m    693\u001b[0m     \u001b[38;5;66;03m#     [ G   0  -I  ]   [ -s ]   [ h ]\u001b[39;00m\n\u001b[1;32m    695\u001b[0m     xscal(\u001b[38;5;241m0.0\u001b[39m, x)\n",
      "\u001b[0;31mValueError\u001b[0m: Rank(A) < p or Rank([G; A]) < n"
     ]
    }
   ],
   "source": [
    "n,m=M.shape\n",
    "pi_v=pi.reshape(-1) # this is the \n",
    "c=M.reshape(-1) # this is the object function \n",
    "margin1=(np.ones((1,1,m))*(np.eye(n).reshape(n,n,1))).reshape(n,n*m)\n",
    "margin2=(np.eye(m).reshape((m,m,1))*np.ones((1,1,n))).reshape(m,n*m)\n",
    "\n",
    "A=np.vstack((margin1,-margin1,margin2,-margin2))\n",
    "\n",
    "b=np.concatenate((mu+eps,-mu+eps,nu+eps,-nu+eps))\n",
    "\n",
    "A_x=matrix(A)\n",
    "b_x=matrix(b)\n",
    "c_x=matrix(c)\n",
    "sol=solvers.lp(c_x,A_x,b_x)\n",
    "pi=sol['x']\n",
    "pi=pi.reshape((n,m))\n"
   ]
  },
  {
   "cell_type": "code",
   "execution_count": 49,
   "id": "b442faaa-60c3-44e1-b09c-80e43f7c69f2",
   "metadata": {},
   "outputs": [
    {
     "data": {
      "text/plain": [
       "array([1.33333333, 1.33333333, 1.33333333, 0.66666667, 0.66666667,\n",
       "       0.66666667, 1.5       , 1.5       , 0.5       , 0.5       ])"
      ]
     },
     "execution_count": 49,
     "metadata": {},
     "output_type": "execute_result"
    }
   ],
   "source": [
    "b"
   ]
  },
  {
   "cell_type": "code",
   "execution_count": 22,
   "id": "a94ba031-0e7a-4a01-a130-9b96a37f1840",
   "metadata": {},
   "outputs": [
    {
     "data": {
      "text/plain": [
       "(10,)"
      ]
     },
     "execution_count": 22,
     "metadata": {},
     "output_type": "execute_result"
    }
   ],
   "source": [
    "b.shape"
   ]
  },
  {
   "cell_type": "code",
   "execution_count": 23,
   "id": "766e2f2d-f52c-4dea-8093-0d70386eb84c",
   "metadata": {},
   "outputs": [
    {
     "ename": "AttributeError",
     "evalue": "'cvxopt.base.matrix' object has no attribute 'shape'",
     "output_type": "error",
     "traceback": [
      "\u001b[0;31m---------------------------------------------------------------------------\u001b[0m",
      "\u001b[0;31mAttributeError\u001b[0m                            Traceback (most recent call last)",
      "Cell \u001b[0;32mIn [23], line 1\u001b[0m\n\u001b[0;32m----> 1\u001b[0m \u001b[43mc\u001b[49m\u001b[38;5;241;43m.\u001b[39;49m\u001b[43mshape\u001b[49m\n",
      "\u001b[0;31mAttributeError\u001b[0m: 'cvxopt.base.matrix' object has no attribute 'shape'"
     ]
    }
   ],
   "source": [
    "c.shape"
   ]
  },
  {
   "cell_type": "code",
   "execution_count": null,
   "id": "afef10da-06fe-4d2c-95ba-120868770091",
   "metadata": {},
   "outputs": [],
   "source": []
  }
 ],
 "metadata": {
  "kernelspec": {
   "display_name": "Python 3 (ipykernel)",
   "language": "python",
   "name": "python3"
  },
  "language_info": {
   "codemirror_mode": {
    "name": "ipython",
    "version": 3
   },
   "file_extension": ".py",
   "mimetype": "text/x-python",
   "name": "python",
   "nbconvert_exporter": "python",
   "pygments_lexer": "ipython3",
   "version": "3.10.9"
  }
 },
 "nbformat": 4,
 "nbformat_minor": 5
}
