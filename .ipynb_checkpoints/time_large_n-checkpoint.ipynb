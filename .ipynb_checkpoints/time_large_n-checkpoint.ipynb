{
 "cells": [
  {
   "cell_type": "code",
   "execution_count": 1,
   "id": "1671e6df-76ff-4f02-8d4f-0f645b02645e",
   "metadata": {},
   "outputs": [
    {
     "name": "stdout",
     "output_type": "stream",
     "text": [
      "/home/baly/projects/sliced_opt\n"
     ]
    }
   ],
   "source": [
    "import sys\n",
    "from mpl_toolkits import mplot3d\n",
    "from mpl_toolkits.mplot3d import Axes3D\n",
    "import os\n",
    "import matplotlib.pyplot as plt\n",
    "import numpy as np\n",
    "import ot\n",
    "import time\n",
    "import numba\n",
    "import numpy as np\n",
    "print(os.getcwd())\n",
    "os.chdir(os.getcwd())\n",
    "from sopt.library import *\n",
    "from sopt.lib_ot import * \n",
    "\n"
   ]
  },
  {
   "cell_type": "code",
   "execution_count": 2,
   "id": "50546233-bc03-4592-86d9-2dedee54101b",
   "metadata": {},
   "outputs": [],
   "source": [
    "import pot1d"
   ]
  },
  {
   "cell_type": "code",
   "execution_count": 83,
   "id": "89140977-fa91-4d4b-bcfa-31f75eeedf3f",
   "metadata": {},
   "outputs": [
    {
     "name": "stdout",
     "output_type": "stream",
     "text": [
      "start2\n"
     ]
    }
   ],
   "source": [
    "def Gaussian_mixture(mu_list, variance_list,n):\n",
    "    N=mu_list.shape[0]\n",
    "    indices=np.random.randint(0,N,n)\n",
    "    X=np.zeros(n)\n",
    "    for i in range(n):\n",
    "        X[i]=np.random.normal(mu_list[indices[i]],variance_list[i])\n",
    "    return X\n",
    "\n",
    "print('start2')\n",
    "    "
   ]
  },
  {
   "cell_type": "code",
   "execution_count": null,
   "id": "31d7f49e-ca49-49bf-ac25-11c3d7cbf287",
   "metadata": {},
   "outputs": [
    {
     "name": "stdout",
     "output_type": "stream",
     "text": [
      "start\n",
      "n 100\n",
      "m 100\n",
      "n 1000\n",
      "m 1000\n",
      "n 5000\n",
      "m 5000\n",
      "n 6000\n",
      "m 6000\n",
      "n 8000\n",
      "m 8000\n",
      "n 10000\n",
      "m 10000\n"
     ]
    }
   ],
   "source": [
    "#test1\n",
    "Lambda_list=np.array([10.0,100.0]).astype(np.float64)\n",
    "k=2\n",
    "print('start')\n",
    "n_list=np.array([1e2,1e3,5e3,6e3,8e3,1e4,2e4,3e4,4e4,5e4,6e4,7e4,8e4,9e4,1e5],dtype=np.int64)\n",
    "N=len(n_list)\n",
    "D=len(Lambda_list)\n",
    "time_lp_list=np.zeros((N,D,k))\n",
    "time_new_list=np.zeros((N,D,k))\n",
    "time_new_C_list=np.zeros((N,D,k))\n",
    "time_sinkhorn_list=np.zeros((N,D,k))\n",
    "\n",
    "for (ni,n) in enumerate(n_list):\n",
    "    m=n #+1000\n",
    "    print('n',n)\n",
    "    print('m',m)\n",
    "    mu=np.ones(n,dtype=np.float64)\n",
    "    nu=np.ones(m,dtype=np.float64)\n",
    "    for i in range (k):\n",
    "        X=np.random.uniform(-20,20,n).astype(np.float64)\n",
    "        Y=np.random.uniform(-20,20,m).astype(np.float64)\n",
    "        for (j,Lambda) in enumerate(Lambda_list):        \n",
    "            X1=X.copy()\n",
    "            Y1=Y.copy()\n",
    "\n",
    "            start_time = time.time()\n",
    "            X1.sort()\n",
    "            Y1.sort()       \n",
    "            M=cost_matrix(X1,Y1)\n",
    "            #obj,phi,psi,piRow,piCol=solve_opt(M,Lambda) #,verbose=False,plots=False)\n",
    "            end_time = time.time()\n",
    "            time_new_list[ni,j,i]=end_time-start_time\n",
    "            #print('ours numba done')\n",
    "            \n",
    "            X1=X.copy()\n",
    "            Y1=Y.copy()\n",
    "            start_time = time.time()\n",
    "            X1.sort()\n",
    "            Y1.sort()       \n",
    "            M=cost_matrix(X1,Y1)\n",
    "            obj,phi,psi,piRow,piCol=pot1d.solve(X1,Y1,Lambda) #,verbose=False,plots=False)\n",
    "            end_time = time.time()\n",
    "            time_new_C_list[ni,j,i]=end_time-start_time\n",
    "            \n",
    "            X1=X.copy()\n",
    "            Y1=Y.copy()\n",
    "            reg=np.float32(max(Lambda/40,0.1))\n",
    "            numItermax=int(200*n*np.log(n))\n",
    "            start_time=time.time()\n",
    "            M=cost_matrix(X1,Y1)\n",
    "            sinkhorn_knopp_opt(mu,nu,M,Lambda,reg,numItermax=numItermax)\n",
    "            end_time = time.time()\n",
    "            time_sinkhorn_list[ni,j,i]+=end_time-start_time\n",
    "    \n",
    "            if n<=4e4:\n",
    "                numItermax=int(200*n*np.log(n))\n",
    "                start_time = time.time()\n",
    "                X1=X.copy()\n",
    "                Y1=Y.copy()\n",
    "                M=cost_matrix(X1,Y1)\n",
    "                cost,gamma=opt_lp(mu,nu,M,Lambda,numItermax)\n",
    "                end_time = time.time()\n",
    "                time_lp_list[ni,j,i]+=end_time-start_time\n",
    "    \n",
    " \n",
    "time_list={}\n",
    "time_list['n_list']=n_list\n",
    "time_list['lp']=time_lp_list \n",
    "time_list['new']=time_new_list\n",
    "time_list['new_C']=time_new_C_list\n",
    "time_list['sinkhorn']=time_sinkhorn_list\n",
    "\n"
   ]
  },
  {
   "cell_type": "code",
   "execution_count": 104,
   "id": "42b80762-13f4-48a5-94c8-58fd26377658",
   "metadata": {},
   "outputs": [],
   "source": [
    "time_list={}\n",
    "time_list['n_list']=n_list\n",
    "time_list['lp']=time_lp_list \n",
    "time_list['new']=time_new_list\n",
    "time_list['new_C']=time_new_C_list\n",
    "#time_list['sinkhorn']=time_sinkhorn_list\n",
    "torch.save(time_list,'experiment/reviewer/result/time_list_large_n.pt')"
   ]
  },
  {
   "cell_type": "code",
   "execution_count": 89,
   "id": "5c5c49f9-c745-40bb-9ed8-132b35aebc2d",
   "metadata": {},
   "outputs": [
    {
     "name": "stdout",
     "output_type": "stream",
     "text": [
      "hello\n"
     ]
    }
   ],
   "source": [
    "print('hello')"
   ]
  },
  {
   "cell_type": "code",
   "execution_count": 94,
   "id": "60660777-a435-4137-84b5-eb4608a36bf8",
   "metadata": {},
   "outputs": [
    {
     "data": {
      "text/plain": [
       "array([[2.14581490e-03, 1.96161270e-03],\n",
       "       [1.10990000e-01, 8.90064240e-02],\n",
       "       [1.55057647e+01, 1.25039225e+01],\n",
       "       [6.61709245e+01, 5.61264999e+01],\n",
       "       [2.63979526e+02, 2.63981828e+02],\n",
       "       [0.00000000e+00, 0.00000000e+00],\n",
       "       [0.00000000e+00, 0.00000000e+00]])"
      ]
     },
     "execution_count": 94,
     "metadata": {},
     "output_type": "execute_result"
    }
   ],
   "source": []
  },
  {
   "cell_type": "code",
   "execution_count": 108,
   "id": "b60ee443-b7a5-41ef-b2ec-b2c6149562f6",
   "metadata": {},
   "outputs": [
    {
     "name": "stdout",
     "output_type": "stream",
     "text": [
      "Lambda= 10.0\n"
     ]
    },
    {
     "ename": "AxisError",
     "evalue": "axis 2 is out of bounds for array of dimension 2",
     "output_type": "error",
     "traceback": [
      "\u001b[0;31m---------------------------------------------------------------------------\u001b[0m",
      "\u001b[0;31mAxisError\u001b[0m                                 Traceback (most recent call last)",
      "Cell \u001b[0;32mIn [108], line 14\u001b[0m\n\u001b[1;32m     12\u001b[0m \u001b[38;5;28;01mfor\u001b[39;00m j \u001b[38;5;129;01min\u001b[39;00m \u001b[38;5;28mrange\u001b[39m(\u001b[38;5;241m2\u001b[39m):\n\u001b[1;32m     13\u001b[0m     \u001b[38;5;28mprint\u001b[39m(\u001b[38;5;124m'\u001b[39m\u001b[38;5;124mLambda=\u001b[39m\u001b[38;5;124m'\u001b[39m,(Lambda_list[j]))\n\u001b[0;32m---> 14\u001b[0m     L\u001b[38;5;241m=\u001b[39m\u001b[43mtime_lp_list\u001b[49m\u001b[38;5;241;43m.\u001b[39;49m\u001b[43mmean\u001b[49m\u001b[43m(\u001b[49m\u001b[38;5;241;43m2\u001b[39;49m\u001b[43m)\u001b[49m[:,j][:\u001b[38;5;241m-\u001b[39m\u001b[38;5;241m2\u001b[39m]\n\u001b[1;32m     15\u001b[0m     \u001b[38;5;28mprint\u001b[39m(\u001b[38;5;124m'\u001b[39m\u001b[38;5;124mslop of lp is \u001b[39m\u001b[38;5;124m'\u001b[39m,slop_loglog(L,n_list[:\u001b[38;5;241m-\u001b[39m\u001b[38;5;241m2\u001b[39m]))\n\u001b[1;32m     16\u001b[0m     L\u001b[38;5;241m=\u001b[39mtime_new_C_list\u001b[38;5;241m.\u001b[39mmean(\u001b[38;5;241m2\u001b[39m)[:,j]\n",
      "File \u001b[0;32m~/miniconda3/envs/pot/lib/python3.10/site-packages/numpy/core/_methods.py:168\u001b[0m, in \u001b[0;36m_mean\u001b[0;34m(a, axis, dtype, out, keepdims, where)\u001b[0m\n\u001b[1;32m    164\u001b[0m arr \u001b[38;5;241m=\u001b[39m asanyarray(a)\n\u001b[1;32m    166\u001b[0m is_float16_result \u001b[38;5;241m=\u001b[39m \u001b[38;5;28;01mFalse\u001b[39;00m\n\u001b[0;32m--> 168\u001b[0m rcount \u001b[38;5;241m=\u001b[39m \u001b[43m_count_reduce_items\u001b[49m\u001b[43m(\u001b[49m\u001b[43marr\u001b[49m\u001b[43m,\u001b[49m\u001b[43m \u001b[49m\u001b[43maxis\u001b[49m\u001b[43m,\u001b[49m\u001b[43m \u001b[49m\u001b[43mkeepdims\u001b[49m\u001b[38;5;241;43m=\u001b[39;49m\u001b[43mkeepdims\u001b[49m\u001b[43m,\u001b[49m\u001b[43m \u001b[49m\u001b[43mwhere\u001b[49m\u001b[38;5;241;43m=\u001b[39;49m\u001b[43mwhere\u001b[49m\u001b[43m)\u001b[49m\n\u001b[1;32m    169\u001b[0m \u001b[38;5;28;01mif\u001b[39;00m rcount \u001b[38;5;241m==\u001b[39m \u001b[38;5;241m0\u001b[39m \u001b[38;5;28;01mif\u001b[39;00m where \u001b[38;5;129;01mis\u001b[39;00m \u001b[38;5;28;01mTrue\u001b[39;00m \u001b[38;5;28;01melse\u001b[39;00m umr_any(rcount \u001b[38;5;241m==\u001b[39m \u001b[38;5;241m0\u001b[39m, axis\u001b[38;5;241m=\u001b[39m\u001b[38;5;28;01mNone\u001b[39;00m):\n\u001b[1;32m    170\u001b[0m     warnings\u001b[38;5;241m.\u001b[39mwarn(\u001b[38;5;124m\"\u001b[39m\u001b[38;5;124mMean of empty slice.\u001b[39m\u001b[38;5;124m\"\u001b[39m, \u001b[38;5;167;01mRuntimeWarning\u001b[39;00m, stacklevel\u001b[38;5;241m=\u001b[39m\u001b[38;5;241m2\u001b[39m)\n",
      "File \u001b[0;32m~/miniconda3/envs/pot/lib/python3.10/site-packages/numpy/core/_methods.py:76\u001b[0m, in \u001b[0;36m_count_reduce_items\u001b[0;34m(arr, axis, keepdims, where)\u001b[0m\n\u001b[1;32m     74\u001b[0m     items \u001b[38;5;241m=\u001b[39m \u001b[38;5;241m1\u001b[39m\n\u001b[1;32m     75\u001b[0m     \u001b[38;5;28;01mfor\u001b[39;00m ax \u001b[38;5;129;01min\u001b[39;00m axis:\n\u001b[0;32m---> 76\u001b[0m         items \u001b[38;5;241m*\u001b[39m\u001b[38;5;241m=\u001b[39m arr\u001b[38;5;241m.\u001b[39mshape[\u001b[43mmu\u001b[49m\u001b[38;5;241;43m.\u001b[39;49m\u001b[43mnormalize_axis_index\u001b[49m\u001b[43m(\u001b[49m\u001b[43max\u001b[49m\u001b[43m,\u001b[49m\u001b[43m \u001b[49m\u001b[43marr\u001b[49m\u001b[38;5;241;43m.\u001b[39;49m\u001b[43mndim\u001b[49m\u001b[43m)\u001b[49m]\n\u001b[1;32m     77\u001b[0m     items \u001b[38;5;241m=\u001b[39m nt\u001b[38;5;241m.\u001b[39mintp(items)\n\u001b[1;32m     78\u001b[0m \u001b[38;5;28;01melse\u001b[39;00m:\n\u001b[1;32m     79\u001b[0m     \u001b[38;5;66;03m# TODO: Optimize case when `where` is broadcast along a non-reduction\u001b[39;00m\n\u001b[1;32m     80\u001b[0m     \u001b[38;5;66;03m# axis and full sum is more excessive than needed.\u001b[39;00m\n\u001b[1;32m     81\u001b[0m \n\u001b[1;32m     82\u001b[0m     \u001b[38;5;66;03m# guarded to protect circular imports\u001b[39;00m\n",
      "\u001b[0;31mAxisError\u001b[0m: axis 2 is out of bounds for array of dimension 2"
     ]
    }
   ],
   "source": [
    "def slop_loglog(time_list,n_list):\n",
    "    N=len(time_list)\n",
    "    log_time_list=np.log(time_list)\n",
    "    log_n_list=np.log(n_list)\n",
    "    A = np.vstack((log_n_list,np.ones(N))).T\n",
    "    y = log_time_list.reshape(N,1)    \n",
    "    # Direct least square regression\n",
    "    alpha = np.dot((np.dot(np.linalg.inv(np.dot(A.T,A)),A.T)),y)\n",
    "    return alpha[0] \n",
    "\n",
    "# print slops of all the time:\n",
    "for j in range(2):\n",
    "    print('Lambda=',(Lambda_list[j]))\n",
    "    L=time_lp_list.mean(2)[:,j][:-2]\n",
    "    print('slop of lp is ',slop_loglog(L,n_list[:-2]))\n",
    "    L=time_new_C_list.mean(2)[:,j]\n",
    "    print('slop of ours is ',slop_loglog(L,n_list))\n",
    "    \n",
    "#    print('slop of our method in C is ',slop_loglog(time_new_C_list[j][:],n_list[:]))\n",
    "    #print('slop of Sinkhorn is ',slop_loglog(time_sinkhorn_list[j][:],n_list[:]))"
   ]
  },
  {
   "cell_type": "code",
   "execution_count": 109,
   "id": "ca8e6b8e-5585-40d6-9b97-6abcbca88b54",
   "metadata": {},
   "outputs": [
    {
     "data": {
      "image/png": "[encoded data removed]",
      "text/plain": [
       "<Figure size 750x465 with 1 Axes>"
      ]
     },
     "metadata": {},
     "output_type": "display_data"
    }
   ],
   "source": [
    "#n_list=np.array([1e2,4e2,8e2,1e3,2e3,4e3,8e3,1e4,2e4,4e4,8e4,1e5],dtype=np.int64)\n",
    "time_list=torch.load('experiment/reviewer/result/time_list_large_n.pt')\n",
    "n_list=time_list['n_list']\n",
    "time_lp_list=time_list['lp'].mean(2)\n",
    "time_new_C_list=time_list['new_C'].mean(2)\n",
    "#time_sinkhorn_list=time_list['sinkhorn'].mean(2)\n",
    "\n",
    "N=len(n_list)\n",
    "# step=500\n",
    "# k=10\n",
    "#\n",
    "fig = plt.figure(figsize=(15/2,9.3/2))\n",
    "ax = plt.subplot(111)\n",
    "for j in range(2):\n",
    "    ax.loglog(n_list[:N-2],time_lp_list[:,j][:N-2],color='black',label='lp: C,Lambda=%0.2f'%(Lambda_list[j]))\n",
    "    #ax.loglog(n_list,time_sinkhorn_list[:,j],'red',label='Sinkhorn,$\\lambda=$'+str(Lambda_list[j]))\n",
    "    ax.loglog(n_list[:],time_new_C_list[:,j][:],color='orange',label='ours')\n",
    "#    box = ax.get_position()\n",
    "#    ax.set_position([box.x0, box.y0 + box.height * 0.1,\n",
    "               #  box.width, box.height * 0.9])\n",
    "#plt.legend(loc='upper center',bbox_to_anchor=(0.5, 1.19),fancybox=True, shadow=True, ncol=3)\n",
    "#plt.legend(bbox_to_anchor=(0.95,1.0))\n",
    "ax.legend(loc='lower right',fancybox=True, shadow=True, ncol=2)\n",
    "ax.set_xlabel('n: size of $X$')\n",
    "ax.set_ylabel(\"wall time\")\n",
    "plt.savefig('experiment/reviewer/result/time_log_large_n.pdf',format='pdf',dpi=800,bbox_inches='tight')\n",
    "#plt.title('wall-clock time with accelaration')\n",
    "plt.show()"
   ]
  },
  {
   "cell_type": "code",
   "execution_count": 107,
   "id": "9a38e235-c957-46fc-9f9e-70e4425b4cf8",
   "metadata": {},
   "outputs": [],
   "source": [
    "@nb.njit(nb.types.Tuple((nb.float64,nb.float64[:],nb.float64[:],nb.int64[:],nb.int64[:]))(nb.float64[:,:],nb.float64))\n",
    "def solve_opt(c,lam): #,verbose=False):\n",
    "    M,N=c.shape\n",
    "    \n",
    "    phi=np.full(shape=M,fill_value=-np.inf)\n",
    "    psi=np.full(shape=N,fill_value=lam)\n",
    "    # to which cols/rows are rows/cols currently assigned? -1: unassigned\n",
    "    piRow=np.full(M,-1,dtype=np.int64)\n",
    "    piCol=np.full(N,-1,dtype=np.int64)\n",
    "    # a bit shifted from notes. K is index of the row that we are currently processing\n",
    "    K=0\n",
    "    # Dijkstra distance array, will be used and initialized on demand in case 3 subroutine\n",
    "    dist=np.full(M,np.inf)\n",
    "\n",
    "    jLast=-1\n",
    "    while K<M:\n",
    "#        if verbose: print(f\"K={K}\")\n",
    "        if jLast==-1:\n",
    "            j=np.argmin(c[K,:]-psi)\n",
    "        else:\n",
    "            j=jLast+np.argmin(c[K,jLast:]-psi[jLast:])\n",
    "        val=c[K,j]-psi[j]\n",
    "        if val>=lam:\n",
    "            #if verbose: print(\"case 1\")\n",
    "            phi[K]=lam\n",
    "            K+=1\n",
    "        elif piCol[j]==-1:\n",
    "            #if verbose: print(\"case 2\")\n",
    "            piCol[j]=K\n",
    "            piRow[K]=j\n",
    "            phi[K]=val\n",
    "            K+=1\n",
    "            jLast=j\n",
    "        else:\n",
    "            #if verbose: print(\"case 3\")\n",
    "            phi[K]=val\n",
    "            #assert piCol[j]==K-1\n",
    "            # Dijkstra distance vector and currently explored radius\n",
    "            dist[K]=0.\n",
    "            dist[K-1]=0.\n",
    "            v=0\n",
    "\n",
    "            # iMin and jMin indicate lower end of range of contiguous rows and cols\n",
    "            # that are currently examined in subroutine;\n",
    "            # upper end is always K and j\n",
    "            iMin=K-1\n",
    "            jMin=j\n",
    "            # threshold until an entry of phi hits lam\n",
    "            if phi[K]>phi[K-1]:\n",
    "                lamDiff=lam-phi[K]\n",
    "                lamInd=K\n",
    "            else:\n",
    "                lamDiff=lam-phi[K-1]\n",
    "                lamInd=K-1\n",
    "            resolved=False\n",
    "            while not resolved:\n",
    "                # threshold until constr iMin,jMin-1 becomes active\n",
    "                if jMin>0:\n",
    "                    lowEndDiff=c[iMin,jMin-1]-phi[iMin]-psi[jMin-1]\n",
    "                    # catch: empty rows in between that could numerically be skipped\n",
    "                    if iMin>0:\n",
    "                        if piRow[iMin-1]==-1:\n",
    "                            lowEndDiff=np.infty\n",
    "                else:\n",
    "                    lowEndDiff=np.infty\n",
    "                # threshold for upper end\n",
    "                if j<N-1:\n",
    "                    hiEndDiff=c[K,j+1]-phi[K]-psi[j+1]-v\n",
    "                else:\n",
    "                    hiEndDiff=np.infty\n",
    "                if hiEndDiff<=min(lowEndDiff,lamDiff):\n",
    "                 #  if verbose: print(\"case 3.1\")\n",
    "                    v+=hiEndDiff\n",
    "                    \n",
    "                    domain1=arange(iMin,K)\n",
    "                    phi[domain1]+=v-dist[domain1]\n",
    "                    psi[piRow[domain1]]-=v-dist[domain1]\n",
    "                    i=K-1\n",
    "                    \n",
    "                    # for i in range(iMin,K):\n",
    "                    #     phi[i]+=v-dist[i]\n",
    "                    #     psi[piRow[i]]-=v-dist[i]\n",
    "                    phi[K]+=v\n",
    "                    piRow[K]=j+1\n",
    "                    piCol[j+1]=K\n",
    "                    jLast=j+1\n",
    "                    resolved=True\n",
    "                elif lowEndDiff<=min(hiEndDiff,lamDiff):\n",
    "                    if piCol[jMin-1]==-1:\n",
    "                    #    if verbose: print(\"case 3.2a\")\n",
    "                        v+=lowEndDiff\n",
    "                        \n",
    "                        domain1=arange(iMin,K)\n",
    "                        phi[domain1]+=v-dist[domain1]\n",
    "                        psi[piRow[domain1]]-=v-dist[domain1]\n",
    "                        i=K-1\n",
    "                        # for i in range(iMin,K):\n",
    "                        #     phi[i]+=v-dist[i]\n",
    "                        #     psi[piRow[i]]-=v-dist[i]\n",
    "                        phi[K]+=v\n",
    "                        # \"flip\" assignment along whole chain\n",
    "                        jPrime=jMin\n",
    "                        piCol[jMin-1]=iMin\n",
    "                        piRow[iMin]-=1\n",
    "                        \n",
    "                        domain2=arange(iMin+1,K)\n",
    "                        piCol[domain2-(iMin+1)+jPrime]+=1\n",
    "                        piRow[domain2]-=1\n",
    "                        jPrime=K-(iMin+1)+jPrime\n",
    "                        i=K-1\n",
    "                        # for i in arange(iMin+1,K):\n",
    "                        #     piCol[jPrime]+=1\n",
    "                        #     piRow[i]-=1\n",
    "                        #     jPrime+=1\n",
    "                        piRow[K]=jPrime\n",
    "                        piCol[jPrime]+=1\n",
    "                        resolved=True\n",
    "                    else:\n",
    "                      #  if verbose: print(\"case 3.2b\")\n",
    "                      #  assert piCol[jMin-1]==iMin-1\n",
    "                        v+=lowEndDiff\n",
    "                        dist[iMin-1]=v\n",
    "                        # adjust distance to threshold\n",
    "                        lamDiff-=lowEndDiff\n",
    "                        iMin-=1\n",
    "                        jMin-=1\n",
    "                        if lam-phi[iMin]<lamDiff:\n",
    "                            lamDiff=lam-phi[iMin]\n",
    "                            lamInd=iMin\n",
    "\n",
    "                else:\n",
    "                 #   if verbose: print(f\"case 3.3, lamInd={lamInd}\")\n",
    "                    v+=lamDiff\n",
    "                    domain1=arange(iMin,K)\n",
    "                    phi[domain1]+=v-dist[domain1]\n",
    "                    psi[piRow[domain1]]-=v-dist[domain1]\n",
    "                    i=K-1\n",
    "                    # for i in range(iMin,K):\n",
    "                    #     phi[i]+=v-dist[i]\n",
    "                    #     psi[piRow[i]]-=v-dist[i]\n",
    "                    phi[K]+=v\n",
    "                    # \"flip\" assignment from lambda touching row onwards\n",
    "                    if lamInd<K:\n",
    "                        jPrime=piRow[lamInd]\n",
    "                        piRow[lamInd]=-1\n",
    "                        \n",
    "                        domain1=arange(lamInd+1,K)\n",
    "                        piRow[domain1]-=1\n",
    "                        piCol[domain1-(lamInd+1)+jPrime]+=1\n",
    "                        jPrime=K-(lamInd+1)+jPrime\n",
    "                        i=K-1\n",
    "                        # for i in range(lamInd+1,K):\n",
    "                        #     piCol[jPrime]+=1\n",
    "                        #     piRow[i]-=1\n",
    "                        #     jPrime+=1\n",
    "                        piRow[K]=jPrime\n",
    "                        piCol[jPrime]+=1\n",
    "                    resolved=True\n",
    "            #assert np.min(c-phi.reshape((M,1))-psi.reshape((1,N)))>=-1E-15\n",
    "            K+=1\n",
    "    objective=np.sum(phi)+np.sum(psi)\n",
    "    return objective,phi,psi,piRow,piCol"
   ]
  },
  {
   "cell_type": "code",
   "execution_count": 13,
   "id": "221b72be-c4f4-4320-a45c-f12c7126af7a",
   "metadata": {},
   "outputs": [
    {
     "name": "stdout",
     "output_type": "stream",
     "text": [
      "numba need 0.5862622261047363,s\n",
      "C++ need 0.09444785118103027,s\n",
      "0.06864535502973013\n",
      "0.06864535492640789\n"
     ]
    }
   ],
   "source": [
    "X=np.random.rand(10000) #.astype(np.float32)\n",
    "Y=np.random.rand(10000) #.astype(np.float32)\n",
    "X.sort()\n",
    "Y.sort()\n",
    "Lambda=3.0 #np.float32(3.0)\n",
    "\n",
    "s1=time.time()\n",
    "M=cost_matrix(X,Y)\n",
    "c1,phi,psi,piRow,piCol=solve_opt(M,Lambda)\n",
    "e1=time.time()\n",
    "print('numba need '+str(e1-s1)+',s')\n",
    "\n",
    "s2=time.time()\n",
    "c2,phi,psi,piRow,piCol=pot1d.solve(X,Y,Lambda)\n",
    "e2=time.time()\n",
    "print('C++ need '+str(e2-s2)+',s')\n",
    "print(c1)\n",
    "print(c2)\n",
    "\n"
   ]
  },
  {
   "cell_type": "code",
   "execution_count": 6,
   "id": "b3af98c3-f900-4e89-b623-4a1d6c8eea37",
   "metadata": {},
   "outputs": [
    {
     "ename": "NameError",
     "evalue": "name 'time_pot_list' is not defined",
     "output_type": "error",
     "traceback": [
      "\u001b[0;31m---------------------------------------------------------------------------\u001b[0m",
      "\u001b[0;31mNameError\u001b[0m                                 Traceback (most recent call last)",
      "Cell \u001b[0;32mIn [6], line 4\u001b[0m\n\u001b[1;32m      1\u001b[0m fig \u001b[38;5;241m=\u001b[39m plt\u001b[38;5;241m.\u001b[39mfigure()\n\u001b[1;32m      2\u001b[0m ax \u001b[38;5;241m=\u001b[39m plt\u001b[38;5;241m.\u001b[39msubplot(\u001b[38;5;241m111\u001b[39m)\n\u001b[0;32m----> 4\u001b[0m ax\u001b[38;5;241m.\u001b[39msemilogy(n_list,\u001b[43mtime_pot_list\u001b[49m[\u001b[38;5;241m1\u001b[39m:],label\u001b[38;5;241m=\u001b[39m\u001b[38;5;124m'\u001b[39m\u001b[38;5;124mpartial OT\u001b[39m\u001b[38;5;124m'\u001b[39m)\n\u001b[1;32m      5\u001b[0m ax\u001b[38;5;241m.\u001b[39msemilogy(n_list,n_list\u001b[38;5;241m*\u001b[39m\u001b[38;5;241m*\u001b[39m\u001b[38;5;241m2\u001b[39m,label\u001b[38;5;241m=\u001b[39m\u001b[38;5;124m'\u001b[39m\u001b[38;5;124m$n^2$\u001b[39m\u001b[38;5;124m'\u001b[39m)\n\u001b[1;32m      6\u001b[0m ax\u001b[38;5;241m.\u001b[39msemilogy(n_list,n_list\u001b[38;5;241m*\u001b[39m\u001b[38;5;241m*\u001b[39m\u001b[38;5;241m3\u001b[39m,label\u001b[38;5;241m=\u001b[39m\u001b[38;5;124m'\u001b[39m\u001b[38;5;124m$n^3$\u001b[39m\u001b[38;5;124m'\u001b[39m)\n",
      "\u001b[0;31mNameError\u001b[0m: name 'time_pot_list' is not defined"
     ]
    },
    {
     "data": {
      "image/png": "[encoded data removed]",
      "text/plain": [
       "<Figure size 640x480 with 1 Axes>"
      ]
     },
     "metadata": {},
     "output_type": "display_data"
    }
   ],
   "source": []
  },
  {
   "cell_type": "code",
   "execution_count": 56,
   "id": "afabb94f-183b-4191-aebd-65186b8e400b",
   "metadata": {},
   "outputs": [
    {
     "ename": "NameError",
     "evalue": "name 'time_pot_list' is not defined",
     "output_type": "error",
     "traceback": [
      "\u001b[0;31m---------------------------------------------------------------------------\u001b[0m",
      "\u001b[0;31mNameError\u001b[0m                                 Traceback (most recent call last)",
      "Cell \u001b[0;32mIn [56], line 10\u001b[0m\n\u001b[1;32m      7\u001b[0m fig \u001b[38;5;241m=\u001b[39m plt\u001b[38;5;241m.\u001b[39mfigure()\n\u001b[1;32m      8\u001b[0m ax \u001b[38;5;241m=\u001b[39m plt\u001b[38;5;241m.\u001b[39msubplot(\u001b[38;5;241m111\u001b[39m)\n\u001b[0;32m---> 10\u001b[0m plt\u001b[38;5;241m.\u001b[39msemilogy(n_list,\u001b[43mtime_pot_list\u001b[49m[\u001b[38;5;241m1\u001b[39m:],label\u001b[38;5;241m=\u001b[39m\u001b[38;5;124m'\u001b[39m\u001b[38;5;124mpartial OT\u001b[39m\u001b[38;5;124m'\u001b[39m)\n\u001b[1;32m     11\u001b[0m \u001b[38;5;28;01mfor\u001b[39;00m j \u001b[38;5;129;01min\u001b[39;00m \u001b[38;5;28mrange\u001b[39m(\u001b[38;5;241m2\u001b[39m):\n\u001b[1;32m     12\u001b[0m \u001b[38;5;66;03m#    plt.semilogy(n_list,time_v2_list[j][1:],label='ours,$\\lambda=$'+str(Lambda_list[j]))\u001b[39;00m\n\u001b[1;32m     13\u001b[0m     plt\u001b[38;5;241m.\u001b[39msemilogy(n_list,time_sinkhorn_list[j][\u001b[38;5;241m1\u001b[39m:],label\u001b[38;5;241m=\u001b[39m\u001b[38;5;124m'\u001b[39m\u001b[38;5;124mours_a,$\u001b[39m\u001b[38;5;124m\\\u001b[39m\u001b[38;5;124mlambda=$\u001b[39m\u001b[38;5;124m'\u001b[39m\u001b[38;5;241m+\u001b[39m\u001b[38;5;28mstr\u001b[39m(Lambda_list[j]))\n",
      "\u001b[0;31mNameError\u001b[0m: name 'time_pot_list' is not defined"
     ]
    },
    {
     "data": {
      "image/png": "[encoded data removed]",
      "text/plain": [
       "<Figure size 640x480 with 1 Axes>"
      ]
     },
     "metadata": {},
     "output_type": "display_data"
    }
   ],
   "source": [
    "start_n=1500\n",
    "end_n=10000\n",
    "device='cpu'\n",
    "step=500\n",
    "k=10\n",
    "n_list=range(start_n,end_n,step)[1:]\n",
    "fig = plt.figure()\n",
    "ax = plt.subplot(111)\n",
    "\n",
    "plt.semilogy(n_list,time_pot_list[1:],label='partial OT')\n",
    "for j in range(2):\n",
    "#    plt.semilogy(n_list,time_v2_list[j][1:],label='ours,$\\lambda=$'+str(Lambda_list[j]))\n",
    "    plt.semilogy(n_list,time_sinkhorn_list[j][1:],label='ours_a,$\\lambda=$'+str(Lambda_list[j]))\n",
    "    plt.semilogy(n_list,time_lp_list[j][1:],label='lp: python ot, C, $\\lambda=$'+str(Lambda_list[j]))\n",
    "    plt.semilogy(n_list,time_new_list[j][1:],label='ours, $\\lambda=$'+str(Lambda_list[j]))\n",
    "box = ax.get_position()\n",
    "ax.set_position([box.x0, box.y0 + box.height * 0.1,\n",
    "                 box.width, box.height * 0.9])\n",
    "plt.legend(loc='upper center',bbox_to_anchor=(0.5, 1.16),\n",
    "          fancybox=True, shadow=True, ncol=3)\n",
    "plt.xlabel('n: size of X')\n",
    "plt.ylabel(\"wall time\")\n",
    "plt.savefig('experiment/test/results/time_numba.png',format='png',dpi=800,bbox_inches='tight')\n",
    "#plt.title('wall-clock time with accelaration')\n",
    "plt.show()"
   ]
  },
  {
   "cell_type": "code",
   "execution_count": null,
   "id": "e4544e29-98fe-4496-bdae-077b02ec99f7",
   "metadata": {},
   "outputs": [],
   "source": []
  }
 ],
 "metadata": {
  "kernelspec": {
   "display_name": "Python 3 (ipykernel)",
   "language": "python",
   "name": "python3"
  },
  "language_info": {
   "codemirror_mode": {
    "name": "ipython",
    "version": 3
   },
   "file_extension": ".py",
   "mimetype": "text/x-python",
   "name": "python",
   "nbconvert_exporter": "python",
   "pygments_lexer": "ipython3",
   "version": "3.10.9"
  }
 },
 "nbformat": 4,
 "nbformat_minor": 5
}
