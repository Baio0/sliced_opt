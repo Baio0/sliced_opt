{
 "cells": [
  {
   "cell_type": "code",
   "execution_count": null,
   "id": "0989efeb-f0bf-44ac-b839-0803b62f6c6b",
   "metadata": {},
   "outputs": [],
   "source": [
    "import sys\n",
    "from mpl_toolkits import mplot3d\n",
    "from mpl_toolkits.mplot3d import Axes3D\n",
    "import os\n",
    "import matplotlib.pyplot as plt\n",
    "import numpy as np\n",
    "import ot\n",
    "import time\n",
    "import numba\n",
    "\n",
    "from skimage.io import imread,imsave\n",
    "from skimage.segmentation import slic\n",
    "from sklearn.cluster import KMeans\n",
    "import torch\n",
    "import torch.optim as optim\n",
    "from skimage.segmentation import slic\n",
    "import numba \n",
    "\n",
    "parent_path='/home/baly/projects/sliced_opt'\n",
    "sys.path.append(parent_path)\n",
    "os.chdir(parent_path)\n",
    "from sopt.library import *\n",
    "from sopt.lib_ot import *   \n",
    "from sopt.sliced_opt import *  \n",
    "from sopt.lib_color import * "
   ]
  },
  {
   "cell_type": "code",
   "execution_count": null,
   "id": "8ba8e679-3983-4879-b4d4-0e5d0ced2ae5",
   "metadata": {},
   "outputs": [],
   "source": []
  }
 ],
 "metadata": {
  "kernelspec": {
   "display_name": "Python 3 (ipykernel)",
   "language": "python",
   "name": "python3"
  },
  "language_info": {
   "codemirror_mode": {
    "name": "ipython",
    "version": 3
   },
   "file_extension": ".py",
   "mimetype": "text/x-python",
   "name": "python",
   "nbconvert_exporter": "python",
   "pygments_lexer": "ipython3",
   "version": "3.10.9"
  }
 },
 "nbformat": 4,
 "nbformat_minor": 5
}
