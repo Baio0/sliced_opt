{
 "cells": [
  {
   "cell_type": "code",
   "execution_count": 1,
   "id": "Tk7AEvbyuIdp",
   "metadata": {
    "id": "Tk7AEvbyuIdp"
   },
   "outputs": [
    {
     "ename": "ModuleNotFoundError",
     "evalue": "No module named 'google'",
     "output_type": "error",
     "traceback": [
      "\u001b[0;31m---------------------------------------------------------------------------\u001b[0m",
      "\u001b[0;31mModuleNotFoundError\u001b[0m                       Traceback (most recent call last)",
      "Cell \u001b[0;32mIn [1], line 1\u001b[0m\n\u001b[0;32m----> 1\u001b[0m \u001b[38;5;28;01mfrom\u001b[39;00m \u001b[38;5;21;01mgoogle\u001b[39;00m\u001b[38;5;21;01m.\u001b[39;00m\u001b[38;5;21;01mcolab\u001b[39;00m \u001b[38;5;28;01mimport\u001b[39;00m drive\n\u001b[1;32m      2\u001b[0m drive\u001b[38;5;241m.\u001b[39mmount(\u001b[38;5;124m'\u001b[39m\u001b[38;5;124m/content/drive\u001b[39m\u001b[38;5;124m'\u001b[39m)\n\u001b[1;32m      3\u001b[0m get_ipython()\u001b[38;5;241m.\u001b[39msystem(\u001b[38;5;124m'\u001b[39m\u001b[38;5;124mpip install pot\u001b[39m\u001b[38;5;124m'\u001b[39m)\n",
      "\u001b[0;31mModuleNotFoundError\u001b[0m: No module named 'google'"
     ]
    }
   ],
   "source": [
    "from google.colab import drive\n",
    "drive.mount('/content/drive')\n",
    "!pip install pot\n",
    "!pip install numba"
   ]
  },
  {
   "cell_type": "code",
   "execution_count": 1,
   "id": "1671e6df-76ff-4f02-8d4f-0f645b02645e",
   "metadata": {
    "id": "1671e6df-76ff-4f02-8d4f-0f645b02645e"
   },
   "outputs": [
    {
     "name": "stdout",
     "output_type": "stream",
     "text": [
      "/home/baly/projects/sliced_opt\n"
     ]
    }
   ],
   "source": [
    "import sys\n",
    "from mpl_toolkits import mplot3d\n",
    "from mpl_toolkits.mplot3d import Axes3D\n",
    "import os\n",
    "import matplotlib.pyplot as plt\n",
    "import numpy as np\n",
    "import ot\n",
    "import time\n",
    "import numba\n",
    "import torch\n",
    "#parent_path='/content/drive/MyDrive/Colab Notebooks/sliced_opt'\n",
    "parent_path='/home/baly/projects/sliced_opt'\n",
    "os.chdir(parent_path)\n",
    "print(parent_path)\n",
    "from sopt.library import *\n",
    "from sopt.lib_ot import *   \n",
    "#import opt1d \n"
   ]
  },
  {
   "cell_type": "code",
   "execution_count": null,
   "id": "0009a176-cf9e-45d4-8eb2-05106200baee",
   "metadata": {
    "id": "0009a176-cf9e-45d4-8eb2-05106200baee"
   },
   "outputs": [],
   "source": [
    "#test1\n",
    "Lambda_list=np.array([20,100]).astype(np.float64)\n",
    "k=5\n",
    "n_list=np.arange(500,int(2e4),step=500)\n",
    "method_list=['lp','new','new_C','sinkhorn','pot']\n",
    "name='experiment/performance_test/result/time_list_uniform.pt'\n",
    "try:\n",
    "  time_list=torch.load(name)\n",
    "except:\n",
    "  time_list={}\n",
    "  for (i,method) in enumerate(method_list):\n",
    "    time_list[method]=np.zeros((n_list.shape[0],Lambda_list.shape[0],k))\n",
    "  torch.save(time_list,name)\n",
    "\n",
    "\n",
    "\n",
    "for (ni,n) in enumerate(n_list):\n",
    "    time_list=torch.load(name)\n",
    "    m=n+1000\n",
    "    print('n',n)\n",
    "    print('m',m)\n",
    "    mu=np.ones(n,dtype=np.float64)\n",
    "    nu=np.ones(m,dtype=np.float64)\n",
    "    for i in range (k):\n",
    "    \n",
    "        X=np.random.uniform(-20,20,n).astype(np.float64)\n",
    "        Y=np.random.uniform(-20,20,m).astype(np.float64)\n",
    "        \n",
    "        X1=X.copy()\n",
    "        Y1=Y.copy()\n",
    "        start_time = time.time()\n",
    "        X1.sort()\n",
    "        Y1.sort()\n",
    "        M=cost_matrix(X1,Y1)\n",
    "        pot(M) #,verbose=False,plots=False)\n",
    "        end_time = time.time()\n",
    "        time_list['pot'][ni,0,i]=end_time-start_time\n",
    "        #print('ours numba done')\n",
    "            \n",
    "        for (j,Lambda) in enumerate(Lambda_list):\n",
    "            X1=X.copy()\n",
    "            Y1=Y.copy()\n",
    "            start_time = time.time()\n",
    "            X1.sort()\n",
    "            Y1.sort()\n",
    "            M=cost_matrix(X1,Y1)\n",
    "            obj,phi,psi,piRow,piCol=solve_opt(M,Lambda) #,verbose=False,plots=False)\n",
    "            end_time = time.time()\n",
    "            time_list['new'][ni,j,i]=end_time-start_time\n",
    "            \n",
    "            \n",
    "            X1=X.copy()\n",
    "            Y1=Y.copy()\n",
    "            start_time = time.time()\n",
    "            X1.sort()\n",
    "            Y1.sort()\n",
    "            \n",
    "            #obj,phi,psi,piRow,piCol=opt1d.solve(X1,Y1,Lambda) #comment out it if you do not install opt-1d c++ solver \n",
    "            end_time = time.time()\n",
    "            time_list['new_C'][ni,j,i]=end_time-start_time\n",
    "\n",
    "\n",
    "            numItermax=int(200*n*np.log(n))\n",
    "            X1=X.copy()\n",
    "            Y1=Y.copy()\n",
    "            start_time = time.time()\n",
    "            M=cost_matrix(X1,Y1)\n",
    "            cost,gamma=opt_lp(mu,nu,M,Lambda,numItermax)\n",
    "            end_time = time.time()\n",
    "            time_list['lp'][ni,j,i]=end_time-start_time\n",
    "                \n",
    "            X1=X.copy()\n",
    "            Y1=Y.copy()\n",
    "            reg=np.float64(max(Lambda/40,0.1))\n",
    "            numItermax=int(200*n*np.log(n))\n",
    "            start_time=time.time()\n",
    "            M=cost_matrix(X1,Y1)\n",
    "            sinkhorn_knopp_opt(mu,nu,M,Lambda,reg,numItermax=numItermax)\n",
    "            end_time = time.time()\n",
    "            time_list['sinkhorn'][ni,j,i]=end_time-start_time\n",
    "    torch.save(time_list,name)"
   ]
  },
  {
   "cell_type": "code",
   "execution_count": 3,
   "id": "EyFxNI-aDVvj",
   "metadata": {
    "id": "EyFxNI-aDVvj"
   },
   "outputs": [
    {
     "name": "stdout",
     "output_type": "stream",
     "text": [
      "check\n"
     ]
    }
   ],
   "source": [
    "Lambda_list=np.array([20,100]).astype(np.float64)\n",
    "k=5\n",
    "n_list=np.arange(500,int(2e4),step=500)\n",
    "print('check')"
   ]
  },
  {
   "cell_type": "code",
   "execution_count": 5,
   "id": "47ea5f5c-0218-43a4-9e97-6c33c473c27b",
   "metadata": {
    "id": "47ea5f5c-0218-43a4-9e97-6c33c473c27b",
    "tags": []
   },
   "outputs": [
    {
     "name": "stdout",
     "output_type": "stream",
     "text": [
      "n 500\n",
      "m 1500\n",
      "n 1000\n",
      "m 2000\n",
      "n 1500\n",
      "m 2500\n"
     ]
    },
    {
     "ename": "KeyboardInterrupt",
     "evalue": "",
     "output_type": "error",
     "traceback": [
      "\u001b[0;31m---------------------------------------------------------------------------\u001b[0m",
      "\u001b[0;31mKeyboardInterrupt\u001b[0m                         Traceback (most recent call last)",
      "Cell \u001b[0;32mIn [5], line 73\u001b[0m\n\u001b[1;32m     71\u001b[0m start_time \u001b[38;5;241m=\u001b[39m time\u001b[38;5;241m.\u001b[39mtime()\n\u001b[1;32m     72\u001b[0m M\u001b[38;5;241m=\u001b[39mcost_matrix(X1,Y1)\n\u001b[0;32m---> 73\u001b[0m cost,gamma\u001b[38;5;241m=\u001b[39m\u001b[43mopt_lp\u001b[49m\u001b[43m(\u001b[49m\u001b[43mmu\u001b[49m\u001b[43m,\u001b[49m\u001b[43mnu\u001b[49m\u001b[43m,\u001b[49m\u001b[43mM\u001b[49m\u001b[43m,\u001b[49m\u001b[43mLambda\u001b[49m\u001b[43m,\u001b[49m\u001b[43mnumItermax\u001b[49m\u001b[43m)\u001b[49m\n\u001b[1;32m     74\u001b[0m end_time \u001b[38;5;241m=\u001b[39m time\u001b[38;5;241m.\u001b[39mtime()\n\u001b[1;32m     75\u001b[0m time_list[\u001b[38;5;124m'\u001b[39m\u001b[38;5;124mlp\u001b[39m\u001b[38;5;124m'\u001b[39m][ni,j,i]\u001b[38;5;241m=\u001b[39mend_time\u001b[38;5;241m-\u001b[39mstart_time\n",
      "File \u001b[0;32m~/projects/sliced_opt/sopt/lib_ot.py:70\u001b[0m, in \u001b[0;36mopt_lp\u001b[0;34m(mu, nu, M, Lambda, numItermax, numThreads)\u001b[0m\n\u001b[1;32m     68\u001b[0m M1\u001b[38;5;241m=\u001b[39mnp\u001b[38;5;241m.\u001b[39mzeros((n\u001b[38;5;241m+\u001b[39m\u001b[38;5;241m1\u001b[39m,m\u001b[38;5;241m+\u001b[39m\u001b[38;5;241m1\u001b[39m),dtype\u001b[38;5;241m=\u001b[39mnp\u001b[38;5;241m.\u001b[39mfloat64)\n\u001b[1;32m     69\u001b[0m M1[\u001b[38;5;241m0\u001b[39m:n,\u001b[38;5;241m0\u001b[39m:m]\u001b[38;5;241m=\u001b[39mM\u001b[38;5;241m-\u001b[39m\u001b[38;5;241m2\u001b[39m\u001b[38;5;241m*\u001b[39mLambda\n\u001b[0;32m---> 70\u001b[0m plan1, cost1, u, v, result_code \u001b[38;5;241m=\u001b[39m \u001b[43memd_c\u001b[49m\u001b[43m(\u001b[49m\u001b[43mmu1\u001b[49m\u001b[43m,\u001b[49m\u001b[43m \u001b[49m\u001b[43mnu1\u001b[49m\u001b[43m,\u001b[49m\u001b[43m \u001b[49m\u001b[43mM1\u001b[49m\u001b[43m,\u001b[49m\u001b[43m \u001b[49m\u001b[43mnumItermax\u001b[49m\u001b[43m,\u001b[49m\u001b[43m \u001b[49m\u001b[43mnumThreads\u001b[49m\u001b[43m)\u001b[49m\n\u001b[1;32m     71\u001b[0m result_code_string \u001b[38;5;241m=\u001b[39m check_result(result_code)\n\u001b[1;32m     72\u001b[0m \u001b[38;5;66;03m#plan1=ot.lp.emd(mu1,nu1,M1,numItermax=numItermax,numThreads=numThreads)\u001b[39;00m\n",
      "\u001b[0;31mKeyboardInterrupt\u001b[0m: "
     ]
    }
   ],
   "source": [
    "# test2\n",
    "mean1=np.linspace(-4,4,5)\n",
    "mean2=np.linspace(-5,5,6)\n",
    "var1=np.ones(5)\n",
    "var2=np.ones(6)\n",
    "\n",
    "        \n",
    "#test1\n",
    "Lambda_list=np.array([20,100]).astype(np.float64)\n",
    "k=5\n",
    "n_list=np.arange(500,int(2e4),step=500)\n",
    "\n",
    "k=5\n",
    "n_list=np.arange(500,int(2e4),step=500)\n",
    "method_list=['lp','new','new_C','sinkhorn','pot']\n",
    "name='experiment/performance_test/result/time_list_gaussian.pt'\n",
    "try:\n",
    "  time_list=torch.load(name)\n",
    "except:\n",
    "  time_list={}\n",
    "  for (i,method) in enumerate(method_list):\n",
    "    time_list[method]=np.zeros((n_list.shape[0],Lambda_list.shape[0],k))\n",
    "  torch.save(time_list,name)\n",
    "\n",
    "\n",
    "\n",
    "for (ni,n) in enumerate(n_list):\n",
    "    time_list=torch.load(name)\n",
    "    m=n+1000\n",
    "    print('n',n)\n",
    "    print('m',m)\n",
    "    mu=np.ones(n,dtype=np.float64)\n",
    "    nu=np.ones(m,dtype=np.float64)\n",
    "    for i in range (k):\n",
    "        X=Gaussian_mixture(mean1,var1,n) #.astype(np.float32) #np.random.uniform(-20,20,n).astype(np.float32)\n",
    "        Y=Gaussian_mixture(mean2,var2,m) #.astype(np.float32) #np.random.uniform(-40,40,m).astype(np.float32)        \n",
    "        X1=X.copy()\n",
    "        Y1=Y.copy()\n",
    "        start_time = time.time()\n",
    "        M=cost_matrix(X1,Y1)\n",
    "        pot(M) #,verbose=False,plots=False)\n",
    "        end_time = time.time()\n",
    "        time_list['pot'][ni,0,i]=end_time-start_time\n",
    "        #print('ours numba done')\n",
    "            \n",
    "        for (j,Lambda) in enumerate(Lambda_list):\n",
    "            X1=X.copy()\n",
    "            Y1=Y.copy()\n",
    "            start_time = time.time()\n",
    "            X1.sort()\n",
    "            Y1.sort()\n",
    "            M=cost_matrix(X1,Y1)\n",
    "            obj,phi,psi,piRow,piCol=solve_opt(M,Lambda) #,verbose=False,plots=False)\n",
    "            end_time = time.time()\n",
    "            time_list['new'][ni,j,i]=end_time-start_time\n",
    "            \n",
    "            \n",
    "            X1=X.copy()\n",
    "            Y1=Y.copy()\n",
    "            start_time = time.time()\n",
    "            X1.sort()\n",
    "            Y1.sort()\n",
    "#            obj,phi,psi,piRow,piCol=opt1d.solve(X1,Y1,Lambda) # comment it out if you do not install the opt 1d c++ solver\n",
    "            end_time = time.time()\n",
    "            time_list['new_C'][ni,j,i]=end_time-start_time\n",
    "                \n",
    "            numItermax=int(200*n*np.log(n))\n",
    "            X1=X.copy()\n",
    "            Y1=Y.copy()\n",
    "            start_time = time.time()\n",
    "            M=cost_matrix(X1,Y1)\n",
    "            cost,gamma=opt_lp(mu,nu,M,Lambda,numItermax)\n",
    "            end_time = time.time()\n",
    "            time_list['lp'][ni,j,i]=end_time-start_time\n",
    "                \n",
    "            X1=X.copy()\n",
    "            Y1=Y.copy()\n",
    "            reg=np.float64(max(Lambda/40,0.1))\n",
    "            numItermax=int(200*n*np.log(n))\n",
    "            start_time=time.time()\n",
    "            M=cost_matrix(X1,Y1)\n",
    "            sinkhorn_knopp_opt(mu,nu,M,Lambda,reg,numItermax=numItermax)\n",
    "            end_time = time.time()\n",
    "            time_list['sinkhorn'][ni,j,i]=end_time-start_time\n",
    "    torch.save(time_list,name)\n",
    "    "
   ]
  },
  {
   "cell_type": "code",
   "execution_count": 6,
   "id": "afabb94f-183b-4191-aebd-65186b8e400b",
   "metadata": {
    "id": "afabb94f-183b-4191-aebd-65186b8e400b"
   },
   "outputs": [
    {
     "data": {
      "image/png": "[encoded data removed]",
      "text/plain": [
       "<Figure size 640x480 with 1 Axes>"
      ]
     },
     "metadata": {},
     "output_type": "display_data"
    }
   ],
   "source": [
    "#Lambda_list=np.array([20,100])\n",
    "data='gaussian' #'uniform' #or 'Gaussian'\n",
    "color_list=[['lime','green'],['pink','deeppink'],['orange','darkorange']]\n",
    "linestyle_list=['-','--']''\n",
    "\n",
    "time_list=torch.load('experiment/performance_test/result/time_list_'+data+'.pt')\n",
    "time_pot_list=time_list['pot'][:,:,0]\n",
    "time_new_list=time_list['new'].mean(2)\n",
    "time_new_C_list=time_list['new_C'].mean(2)\n",
    "time_lp_list=time_list['lp'].mean(2)\n",
    "time_sinkhorn_list=time_list['sinkhorn'].mean(2)\n",
    "\n",
    "fig = plt.figure()\n",
    "ax = plt.subplot(111)\n",
    "ax.semilogy(n_list,time_pot_list[:,0],'blue',label='partial OT')\n",
    "for j in range(2):\n",
    "    ax.semilogy(n_list,time_sinkhorn_list[:,j],linestyle=linestyle_list[j],color=color_list[0][j],label='Sinkhorn,$\\lambda=$'+str(Lambda_list[j]))\n",
    "    ax.semilogy(n_list,time_lp_list[:,j],linestyle=linestyle_list[j],color=color_list[1][j],label='lp: python ot, C, $\\lambda=$'+str(Lambda_list[j]))\n",
    "    ax.semilogy(n_list,time_new_list[:,j],linestyle=linestyle_list[j],color=color_list[2][j],label='ours, $\\lambda=$'+str(Lambda_list[j]))\n",
    "    #ax.semilog(n_list,time_new_C_list[:,j],linestyle=linestyle_list[j],color=color_list[2][j],label='ours,$\\lambda=$'+str(Lambda_list[j]))\n",
    "box = ax.get_position()\n",
    "ax.set_position([box.x0, box.y0 + box.height * 0.1,\n",
    "                 box.width, box.height * 0.9])\n",
    "ax.legend(bbox_to_anchor=(0.98, 0.95))\n",
    "plt.xlabel(r'n: size of $\\mu$')\n",
    "plt.ylabel(\"wall time\")\n",
    "plt.savefig('experiment/performance_test/result/time_'+data+'_semi.pdf',format='pdf',dpi=800,bbox_inches='tight')\n",
    "#plt.title('wall-clock time with accelaration')\n",
    "plt.show()"
   ]
  },
  {
   "cell_type": "code",
   "execution_count": 14,
   "id": "62f649d2-ee0b-4bbb-8276-3d6b3bda1b6f",
   "metadata": {},
   "outputs": [
    {
     "data": {
      "text/plain": [
       "array([[0.        , 0.        ],\n",
       "       [0.        , 0.        ],\n",
       "       [0.        , 0.        ],\n",
       "       [0.        , 0.        ],\n",
       "       [0.        , 0.        ],\n",
       "       [0.        , 0.        ],\n",
       "       [0.        , 0.        ],\n",
       "       [0.        , 0.        ],\n",
       "       [0.        , 0.        ],\n",
       "       [0.        , 0.        ],\n",
       "       [0.        , 0.        ],\n",
       "       [0.        , 0.        ],\n",
       "       [0.        , 0.        ],\n",
       "       [0.        , 0.        ],\n",
       "       [0.        , 0.        ],\n",
       "       [0.        , 0.        ],\n",
       "       [0.        , 0.        ],\n",
       "       [0.        , 0.        ],\n",
       "       [0.        , 0.        ],\n",
       "       [0.        , 0.        ],\n",
       "       [0.        , 0.        ],\n",
       "       [0.        , 0.        ],\n",
       "       [0.        , 0.        ],\n",
       "       [0.        , 0.        ],\n",
       "       [0.        , 0.        ],\n",
       "       [0.        , 0.        ],\n",
       "       [0.        , 0.        ],\n",
       "       [0.        , 0.        ],\n",
       "       [0.        , 0.        ],\n",
       "       [0.        , 0.        ],\n",
       "       [0.        , 0.        ],\n",
       "       [0.        , 0.        ],\n",
       "       [0.        , 0.        ],\n",
       "       [0.        , 0.        ],\n",
       "       [0.        , 0.        ],\n",
       "       [0.        , 0.        ],\n",
       "       [0.        , 0.        ],\n",
       "       [0.        , 0.        ],\n",
       "       [4.80772686, 0.        ]])"
      ]
     },
     "execution_count": 14,
     "metadata": {},
     "output_type": "execute_result"
    }
   ],
   "source": [
    "time_pot_list"
   ]
  },
  {
   "cell_type": "code",
   "execution_count": null,
   "id": "7ef91e35-592d-40de-9c7e-3de4a8bbabdf",
   "metadata": {
    "id": "7ef91e35-592d-40de-9c7e-3de4a8bbabdf"
   },
   "outputs": [],
   "source": [
    "time_list=torch.load('experiment/performance_test/results/time_list_uniform.pt')\n",
    "n_list=time_list['n_list']\n",
    "time_pot_list=time_list['pot'].mean(2)\n",
    "time_lp_list=time_list['lp'].mean(2)\n",
    "time_new_list=time_list['new'].mean(2)\n",
    "time_new_C_list=time_list['new_C'].mean(2)\n",
    "time_sinkhorn_list=time_list['sinkhorn'].mean(2)\n",
    "\n",
    "def slop_loglog(time_list,n_list):\n",
    "    N=len(time_list)\n",
    "    log_time_list=np.log(time_list)\n",
    "    log_n_list=np.log(n_list)\n",
    "    A = np.vstack((log_n_list,np.ones(N))).T\n",
    "    y = log_time_list.reshape(N,1)    \n",
    "    # Direct least square regression\n",
    "    alpha = np.dot((np.dot(np.linalg.inv(np.dot(A.T,A)),A.T)),y)\n",
    "    return alpha[0]  \n",
    "\n",
    "    \n",
    "    # for i in range(N-1):\n",
    "    #     slop_list[i]=(np.log(time_list[i+1])-np.log(time_list[i]))/(np.log(n_list[i+1])-np.log(n_list[i]))\n",
    "    # return slop_list,slop_list.mean(0)\n",
    "\n",
    "# print slops of all the time:\n",
    "for j in range(2):\n",
    "    print('$\\lambda=',Lambda_list[j])\n",
    "    print('slop of lp is ',slop_loglog(time_lp_list[:,j],n_list))\n",
    "    print('slop of ours is ',slop_loglog(time_new_list[:,j],n_list))\n",
    "    print('slop of sinkhorn is ',slop_loglog(time_sinkhorn_list[:,j],n_list))\n",
    "    #print('slop of pot is ',slop_loglog(time_pot_list[:,0],n_list))\n",
    "    "
   ]
  },
  {
   "cell_type": "code",
   "execution_count": null,
   "id": "9478606c-2e1b-4dc9-b521-bbed485312a3",
   "metadata": {
    "id": "9478606c-2e1b-4dc9-b521-bbed485312a3"
   },
   "outputs": [],
   "source": []
  }
 ],
 "metadata": {
  "accelerator": "TPU",
  "colab": {
   "machine_shape": "hm",
   "private_outputs": true,
   "provenance": []
  },
  "gpuClass": "standard",
  "kernelspec": {
   "display_name": "Python 3 (ipykernel)",
   "language": "python",
   "name": "python3"
  },
  "language_info": {
   "codemirror_mode": {
    "name": "ipython",
    "version": 3
   },
   "file_extension": ".py",
   "mimetype": "text/x-python",
   "name": "python",
   "nbconvert_exporter": "python",
   "pygments_lexer": "ipython3",
   "version": "3.10.9"
  },
  "toc-autonumbering": false
 },
 "nbformat": 4,
 "nbformat_minor": 5
}
