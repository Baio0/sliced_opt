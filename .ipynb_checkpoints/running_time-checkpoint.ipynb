{
 "cells": [
  {
   "cell_type": "code",
   "execution_count": 33,
   "id": "1671e6df-76ff-4f02-8d4f-0f645b02645e",
   "metadata": {},
   "outputs": [
    {
     "name": "stdout",
     "output_type": "stream",
     "text": [
      "/home/baly/projects/sliced_opt\n"
     ]
    }
   ],
   "source": [
    "import sys\n",
    "from mpl_toolkits import mplot3d\n",
    "from mpl_toolkits.mplot3d import Axes3D\n",
    "import os\n",
    "import matplotlib.pyplot as plt\n",
    "import numpy as np\n",
    "import ot\n",
    "import time\n",
    "import numba\n",
    "import torch\n",
    "parent_path='/home/baly/projects/sliced_opt'\n",
    "os.chdir(parent_path)\n",
    "print(parent_path)\n",
    "from sopt.library import *\n",
    "from sopt.lib_ot import *   \n",
    "import opt1d \n"
   ]
  },
  {
   "cell_type": "code",
   "execution_count": 31,
   "id": "0009a176-cf9e-45d4-8eb2-05106200baee",
   "metadata": {},
   "outputs": [
    {
     "name": "stdout",
     "output_type": "stream",
     "text": [
      "start\n",
      "n 1000\n",
      "m 2000\n",
      "n 1500\n",
      "m 2500\n",
      "n 2000\n",
      "m 3000\n",
      "n 2500\n",
      "m 3500\n",
      "n 3000\n",
      "m 4000\n",
      "n 3500\n",
      "m 4500\n",
      "n 4000\n",
      "m 5000\n",
      "n 4500\n",
      "m 5500\n",
      "n 5000\n",
      "m 6000\n",
      "n 5500\n",
      "m 6500\n",
      "n 6000\n",
      "m 7000\n",
      "n 6500\n",
      "m 7500\n",
      "n 7000\n",
      "m 8000\n",
      "n 7500\n",
      "m 8500\n",
      "n 8000\n",
      "m 9000\n",
      "n 8500\n",
      "m 9500\n",
      "n 9000\n",
      "m 10000\n",
      "n 9500\n",
      "m 10500\n",
      "n 10000\n",
      "m 11000\n",
      "n 10500\n",
      "m 11500\n",
      "n 11000\n",
      "m 12000\n",
      "n 11500\n",
      "m 12500\n",
      "n 12000\n",
      "m 13000\n",
      "n 12500\n",
      "m 13500\n",
      "n 13000\n",
      "m 14000\n",
      "n 13500\n",
      "m 14500\n",
      "n 14000\n",
      "m 15000\n",
      "n 14500\n",
      "m 15500\n",
      "n 15000\n",
      "m 16000\n",
      "n 15500\n",
      "m 16500\n",
      "n 16000\n",
      "m 17000\n",
      "n 16500\n",
      "m 17500\n",
      "n 17000\n",
      "m 18000\n",
      "n 17500\n",
      "m 18500\n",
      "n 18000\n",
      "m 19000\n",
      "n 18500\n",
      "m 19500\n",
      "n 19000\n",
      "m 20000\n",
      "n 19500\n",
      "m 20500\n"
     ]
    }
   ],
   "source": [
    "#test1\n",
    "Lambda_list=np.array([20,100]).astype(np.float64)\n",
    "k=10\n",
    "n_list=np.arange(int(1e3),int(1e4),step=500)\n",
    "N=len(n_list)\n",
    "D=len(Lambda_list)\n",
    "time_lp_list=np.zeros((N,D,k))\n",
    "time_new_list=np.zeros((N,D,k))\n",
    "time_new_C_list=np.zeros((N,D,k))\n",
    "time_sinkhorn_list=np.zeros((N,D,k))\n",
    "time_pot_list=np.zeros((N,1,k))\n",
    "\n",
    "for (ni,n) in enumerate(n_list):\n",
    "    m=n+1000\n",
    "    print('n',n)\n",
    "    print('m',m)\n",
    "    mu=np.ones(n,dtype=np.float64)\n",
    "    nu=np.ones(m,dtype=np.float64)\n",
    "    for i in range (k):\n",
    "        X=np.random.uniform(-20,20,n).astype(np.float64)\n",
    "        Y=np.random.uniform(-20,20,m).astype(np.float64)\n",
    "        \n",
    "        X1=X.copy()\n",
    "        Y1=Y.copy()\n",
    "        start_time = time.time()\n",
    "        X1.sort()\n",
    "        Y1.sort()\n",
    "        M=cost_matrix(X1,Y1)\n",
    "        pot(M) #,verbose=False,plots=False)\n",
    "        end_time = time.time()\n",
    "        time_pot_list[ni,0,i]=end_time-start_time\n",
    "        #print('ours numba done')\n",
    "            \n",
    "        for (j,Lambda) in enumerate(Lambda_list):\n",
    "            X1=X.copy()\n",
    "            Y1=Y.copy()\n",
    "            start_time = time.time()\n",
    "            X1.sort()\n",
    "            Y1.sort()\n",
    "            M=cost_matrix(X1,Y1)\n",
    "            obj,phi,psi,piRow,piCol=solve_opt(M,Lambda) #,verbose=False,plots=False)\n",
    "            end_time = time.time()\n",
    "            time_new_list[ni,j,i]=end_time-start_time\n",
    "            \n",
    "            \n",
    "            X1=X.copy()\n",
    "            Y1=Y.copy()\n",
    "            start_time = time.time()\n",
    "            X1.sort()\n",
    "            Y1.sort()\n",
    "            obj,phi,psi,piRow,piCol=opt1d.solve(X1,Y1,Lambda) #,verbose=False,plots=False)\n",
    "            end_time = time.time()\n",
    "            time_new_C_list[ni,j,i]=end_time-start_time\n",
    "                \n",
    "            numItermax=int(200*n*np.log(n))\n",
    "            X1=X.copy()\n",
    "            Y1=Y.copy()\n",
    "            start_time = time.time()\n",
    "            M=cost_matrix(X1,Y1)\n",
    "            cost,gamma=opt_lp(mu,nu,M,Lambda,numItermax)\n",
    "            end_time = time.time()\n",
    "            time_lp_list[ni,j,i]=end_time-start_time\n",
    "                \n",
    "            X1=X.copy()\n",
    "            Y1=Y.copy()\n",
    "            reg=np.float32(max(Lambda/40,0.1))\n",
    "            numItermax=int(200*n*np.log(n))\n",
    "            start_time=time.time()\n",
    "            M=cost_matrix(X1,Y1)\n",
    "            sinkhorn_knopp_opt(mu,nu,M,Lambda,reg,numItermax=numItermax)\n",
    "            end_time = time.time()\n",
    "            time_sinkhorn_list[ni,j,i]=end_time-start_time\n",
    "    time_list={}\n",
    "    time_list['n_list']=n_list\n",
    "    time_list['lp']=time_lp_list \n",
    "    time_list['new']=time_new_list\n",
    "    time_list['new_C']=time_new_C_list\n",
    "    time_list['sinkhorn']=time_sinkhorn_list\n",
    "    time_list['pot']=time_pot_list\n",
    "\n",
    "    torch.save(time_list,'experiment/performance_test/result/time_list_uniform.pt')"
   ]
  },
  {
   "cell_type": "code",
   "execution_count": null,
   "id": "c654b94d-7b03-4b03-ac58-86d7d7fe1383",
   "metadata": {},
   "outputs": [
    {
     "name": "stdout",
     "output_type": "stream",
     "text": [
      "start\n",
      "n 1000\n",
      "m 2000\n",
      "n 1500\n",
      "m 2500\n",
      "n 2000\n",
      "m 3000\n",
      "n 2500\n",
      "m 3500\n",
      "n 3000\n",
      "m 4000\n",
      "n 3500\n",
      "m 4500\n",
      "n 4000\n",
      "m 5000\n",
      "n 4500\n",
      "m 5500\n",
      "n 5000\n",
      "m 6000\n",
      "n 5500\n",
      "m 6500\n",
      "n 6000\n",
      "m 7000\n",
      "n 6500\n",
      "m 7500\n",
      "n 7000\n",
      "m 8000\n",
      "n 7500\n",
      "m 8500\n",
      "n 8000\n",
      "m 9000\n",
      "n 8500\n",
      "m 9500\n",
      "n 9000\n",
      "m 10000\n",
      "n 9500\n",
      "m 10500\n"
     ]
    }
   ],
   "source": [
    "#test2\n",
    "mean1=np.linspace(-4,4,5)\n",
    "mean2=np.linspace(-5,5,6)\n",
    "var1=np.ones(5)\n",
    "var2=np.ones(6)\n",
    "\n",
    "        \n",
    "#test1\n",
    "Lambda_list=np.array([20,100]).astype(np.float64)\n",
    "k=5\n",
    "print('start')\n",
    "n_list=np.arange(int(1e3),int(2e4),step=500)\n",
    "N=len(n_list)\n",
    "D=len(Lambda_list)\n",
    "time_lp_list=np.zeros((N,D,k))\n",
    "time_new_list=np.zeros((N,D,k))\n",
    "time_new_C_list=np.zeros((N,D,k))\n",
    "time_sinkhorn_list=np.zeros((N,D,k))\n",
    "time_pot_list=np.zeros((N,1,k))\n",
    "\n",
    "for (ni,n) in enumerate(n_list):\n",
    "    m=n+1000\n",
    "    print('n',n)\n",
    "    print('m',m)\n",
    "    mu=np.ones(n,dtype=np.float64)\n",
    "    nu=np.ones(m,dtype=np.float64)\n",
    "    for i in range (k):\n",
    "        X=Gaussian_mixture(mean1,var1,n) #.astype(np.float32) #np.random.uniform(-20,20,n).astype(np.float32)\n",
    "        Y=Gaussian_mixture(mean2,var2,m) #.astype(np.float32) #np.random.uniform(-40,40,m).astype(np.float32)        \n",
    "        X1=X.copy()\n",
    "        Y1=Y.copy()\n",
    "        start_time = time.time()\n",
    "        M=cost_matrix(X1,Y1)\n",
    "        pot(M) #,verbose=False,plots=False)\n",
    "        end_time = time.time()\n",
    "        time_pot_list[ni,0,i]=end_time-start_time\n",
    "        #print('ours numba done')\n",
    "            \n",
    "        for (j,Lambda) in enumerate(Lambda_list):\n",
    "            X1=X.copy()\n",
    "            Y1=Y.copy()\n",
    "            start_time = time.time()\n",
    "            X1.sort()\n",
    "            Y1.sort()\n",
    "            M=cost_matrix(X1,Y1)\n",
    "            obj,phi,psi,piRow,piCol=solve_opt(M,Lambda) #,verbose=False,plots=False)\n",
    "            end_time = time.time()\n",
    "            time_new_list[ni,j,i]=end_time-start_time\n",
    "            \n",
    "            \n",
    "            X1=X.copy()\n",
    "            Y1=Y.copy()\n",
    "            start_time = time.time()\n",
    "            X1.sort()\n",
    "            Y1.sort()\n",
    "            obj,phi,psi,piRow,piCol=opt1d.solve(X1,Y1,Lambda) #,verbose=False,plots=False)\n",
    "            end_time = time.time()\n",
    "            time_new_C_list[ni,j,i]=end_time-start_time\n",
    "                \n",
    "            numItermax=int(200*n*np.log(n))\n",
    "            X1=X.copy()\n",
    "            Y1=Y.copy()\n",
    "            start_time = time.time()\n",
    "            M=cost_matrix(X1,Y1)\n",
    "            cost,gamma=opt_lp(mu,nu,M,Lambda,numItermax)\n",
    "            end_time = time.time()\n",
    "            time_lp_list[ni,j,i]=end_time-start_time\n",
    "                \n",
    "            X1=X.copy()\n",
    "            Y1=Y.copy()\n",
    "            reg=np.float32(max(Lambda/40,0.1))\n",
    "            numItermax=int(200*n*np.log(n))\n",
    "            start_time=time.time()\n",
    "            M=cost_matrix(X1,Y1)\n",
    "            sinkhorn_knopp_opt(mu,nu,M,Lambda,reg,numItermax=numItermax)\n",
    "            end_time = time.time()\n",
    "            time_sinkhorn_list[ni,j,i]=end_time-start_time\n",
    "    time_list={}\n",
    "    time_list['n_list']=n_list\n",
    "    time_list['lp']=time_lp_list \n",
    "    time_list['new']=time_new_list\n",
    "    time_list['new_C']=time_new_C_list\n",
    "    time_list['sinkhorn']=time_sinkhorn_list\n",
    "    time_list['pot']=time_pot_list\n",
    "\n",
    "    torch.save(time_list,'experiment/performance_test/result/time_list_Gaussian.pt')\n",
    "    "
   ]
  },
  {
   "cell_type": "code",
   "execution_count": 30,
   "id": "afabb94f-183b-4191-aebd-65186b8e400b",
   "metadata": {},
   "outputs": [
    {
     "data": {
      "image/png": "[encoded data removed]",
      "text/plain": [
       "<Figure size 640x480 with 1 Axes>"
      ]
     },
     "metadata": {},
     "output_type": "display_data"
    }
   ],
   "source": [
    "\n",
    "\n",
    "time_list=torch.load('experiment/performance_test/result/time_list_uniform.pt')\n",
    "n_list=time_list['n_list']\n",
    "time_pot_list=time_list['pot'].mean(2)\n",
    "time_new_list=time_list['new'].mean(2)\n",
    "time_new_C_list=time_list['new_C'].mean(2)\n",
    "time_lp_list=time_list['lp'].mean(2)\n",
    "time_sinkhorn_list=time_list['sinkhorn'].mean(2)\n",
    "\n",
    "fig = plt.figure()\n",
    "ax = plt.subplot(111)\n",
    "ax.semilogy(n_list,time_pot_list[:],'orange',label='partial OT')\n",
    "for j in range(2):\n",
    "    ax.semilogy(n_list,time_sinkhorn_list[:,j],'green',label='Sinkhorn,$\\lambda=$'+str(Lambda_list[j]))\n",
    "    ax.semilogy(n_list,time_lp_list[:,j],'red',label='lp: python ot, C, $\\lambda=$'+str(Lambda_list[j]))\n",
    "    ax.semilogy(n_list,time_new_list[:,j],'blue',label='ours, $\\lambda=$'+str(Lambda_list[j]))\n",
    "    #ax.loglog(n_list,time_new_C_list[:,j],'blue',label='ours_C,$\\lambda=$'+str(Lambda_list[j]))\n",
    "box = ax.get_position()\n",
    "ax.set_position([box.x0, box.y0 + box.height * 0.1,\n",
    "                 box.width, box.height * 0.9])\n",
    "ax.legend(loc='upper center',bbox_to_anchor=(0.5, 1.20),\n",
    "          fancybox=True, shadow=True, ncol=3)\n",
    "plt.xlabel(r'n: size of $\\mu$')\n",
    "plt.ylabel(\"wall time\")\n",
    "plt.savefig('experiment/performance_test/result/time_uniform.pdf',format='pdf',dpi=800,bbox_inches='tight')\n",
    "#plt.title('wall-clock time with accelaration')\n",
    "plt.show()"
   ]
  },
  {
   "cell_type": "code",
   "execution_count": 19,
   "id": "37b9a090-26f0-49ed-8a88-5379dd0fc68c",
   "metadata": {},
   "outputs": [
    {
     "data": {
      "text/plain": [
       "(22, 2)"
      ]
     },
     "execution_count": 19,
     "metadata": {},
     "output_type": "execute_result"
    }
   ],
   "source": [
    "time_sinkhorn_list"
   ]
  },
  {
   "cell_type": "code",
   "execution_count": 97,
   "id": "7ef91e35-592d-40de-9c7e-3de4a8bbabdf",
   "metadata": {},
   "outputs": [
    {
     "name": "stdout",
     "output_type": "stream",
     "text": [
      "$\\lambda= 10.0\n",
      "slop of lp is  [2.92182781]\n",
      "slop of ours is  [2.40377569]\n",
      "slop of sinkhorn is  [2.10946864]\n",
      "slop of pot is  [1.70333075]\n",
      "$\\lambda= 100.0\n",
      "slop of lp is  [2.797918]\n",
      "slop of ours is  [1.60517679]\n",
      "slop of sinkhorn is  [2.23232268]\n",
      "slop of pot is  [1.70333075]\n"
     ]
    }
   ],
   "source": [
    "time_list=torch.load('experiment/performance_test/results/time_list_numba.pt')\n",
    "n_list=time_list['n_list']\n",
    "time_pot_list=time_list['pot'].mean(2)\n",
    "time_lp_list=time_list['lp'].mean(2)\n",
    "time_new_list=time_list['new'].mean(2)\n",
    "time_new_C_list=time_list['new_C'].mean(2)\n",
    "time_sinkhorn_list=time_list['sinkhorn'].mean(2)\n",
    "\n",
    "def slop_loglog(time_list,n_list):\n",
    "    N=len(time_list)\n",
    "    log_time_list=np.log(time_list)\n",
    "    log_n_list=np.log(n_list)\n",
    "    A = np.vstack((log_n_list,np.ones(N))).T\n",
    "    y = log_time_list.reshape(N,1)    \n",
    "    # Direct least square regression\n",
    "    alpha = np.dot((np.dot(np.linalg.inv(np.dot(A.T,A)),A.T)),y)\n",
    "    return alpha[0]  \n",
    "\n",
    "    \n",
    "    # for i in range(N-1):\n",
    "    #     slop_list[i]=(np.log(time_list[i+1])-np.log(time_list[i]))/(np.log(n_list[i+1])-np.log(n_list[i]))\n",
    "    # return slop_list,slop_list.mean(0)\n",
    "\n",
    "# print slops of all the time:\n",
    "for j in range(2):\n",
    "    print('$\\lambda=',Lambda_list[j])\n",
    "    print('slop of lp is ',slop_loglog(time_lp_list[:,j],n_list))\n",
    "    print('slop of ours is ',slop_loglog(time_new_list[:,j],n_list))\n",
    "    print('slop of sinkhorn is ',slop_loglog(time_sinkhorn_list[:,j],n_list))\n",
    "    #print('slop of pot is ',slop_loglog(time_pot_list[:,0],n_list))\n",
    "    "
   ]
  },
  {
   "cell_type": "code",
   "execution_count": null,
   "id": "ba61229f-8d82-45e9-bda9-a0b6caddc1dd",
   "metadata": {},
   "outputs": [],
   "source": [
    "\n",
    "time_list=torch.load('experiment/performance_test/results/time_list_numba.pt')\n",
    "time_pot_list=time_list['pot'].mean(2)\n",
    "time_lp_list=time_list['lp'].mean(2)\n",
    "time_new_list=time_list['new'].mean(2)\n",
    "time_new_C_list=time_list['new_C'].mean(2)\n",
    "time_sinkhorn_list=time_list['sinkhorn'].mean(2)\n",
    "# start_n=1500\n",
    "# end_n=10000\n",
    "# device='cpu'\n",
    "# step=500\n",
    "# k=10\n",
    "\n",
    "# start_n=1500\n",
    "# end_n=10000\n",
    "# step=500\n",
    "# k=2\n",
    "             \n",
    "fig = plt.figure()\n",
    "ax = plt.subplot(111)\n",
    "\n",
    "ax.loglog(n_list,time_pot_list[:],'green',label='partial OT')\n",
    "for j in range(2):\n",
    "    ax.loglog(n_list,time_sinkhorn_list[:,j],'red',label='Sinkhorn,$\\lambda=$'+str(Lambda_list[j]))\n",
    "    ax.loglog(n_list,time_lp_list[:,j],'black',label='lp: python ot, C, $\\lambda=$'+str(Lambda_list[j]))\n",
    "    #ax.loglog(n_list,time_new_list[j],'orange',label='ours, $\\lambda=$'+str(Lambda_list[j]))\n",
    "    ax.loglog(n_list,time_new_C_list[:,j],'orange',label='ours,C, $\\lambda=$'+str(Lambda_list[j]))\n",
    "#box = ax.get_position()\n",
    "ax.legend(bbox_to_anchor=(0.95,1.0))\n",
    "#ax.set_position([box.x0, box.y0 + box.height * 0.1,box.width, box.height * 0.9])\n",
    "#ax.legend(loc='upper center',bbox_to_anchor=(0.5, 1.23),\n",
    "       #   fancybox=True, shadow=True, ncol=3)\n",
    "ax.set_xlabel('n: size of X')\n",
    "ax.set_ylabel(\"wall time\")\n",
    "plt.savefig('experiment/reviewer/result/time_plot.pdf',format='pdf',dpi=800,bbox_inches='tight')\n",
    "#plt.title('wall-clock time with accelaration')\n",
    "plt.show()"
   ]
  },
  {
   "cell_type": "code",
   "execution_count": 16,
   "id": "89140977-fa91-4d4b-bcfa-31f75eeedf3f",
   "metadata": {},
   "outputs": [],
   "source": [
    "@nb.njit(['(float64[:])(float64[:],float64[:],int64)'],fastmath=True)\n",
    "def Gaussian_mixture(mu_list, variance_list,n):\n",
    "    N=mu_list.shape[0]\n",
    "    indices=np.random.randint(0,N,n)\n",
    "    X=np.zeros(n)\n",
    "    for i in range(n):\n",
    "        X[i]=np.random.normal(mu_list[indices[i]],variance_list[indices[i]])\n",
    "    return X\n",
    "\n",
    "# @nb.njit(['(float32[:])(float32[:],float32[:],int64)'],fastmath=True)\n",
    "# def Gaussian_mixture_32(mu_list, variance_list,n):\n",
    "#     N=mu_list.shape[0]\n",
    "#     indices=np.random.randint(0,N,n)\n",
    "#     X=np.zeros(n,dtype=np.float32)\n",
    "#     for i in range(n):\n",
    "#         X[i]=np.float32(np.random.normal(mu_list[indices[i]],variance_list[indices[i]]))\n",
    "#     return X\n",
    "\n",
    "\n",
    "    \n",
    "    "
   ]
  },
  {
   "cell_type": "code",
   "execution_count": 17,
   "id": "4005aef0-eede-4c1d-a9b5-6c27cc62507f",
   "metadata": {},
   "outputs": [
    {
     "name": "stdout",
     "output_type": "stream",
     "text": [
      "[ 5.43949762 -0.95486728  1.48640772 -0.21362046 -0.00693473 -1.63088248\n",
      "  2.24904571  6.23082783 -1.03992554  0.27571546]\n"
     ]
    }
   ],
   "source": [
    "mu1=np.linspace(-4,4,5)\n",
    "mu2=np.linspace(-5,5,6)\n",
    "var1=np.ones(5)\n",
    "var2=np.ones(6)\n",
    "X=Gaussian_mixture(mu1,var1,10)\n",
    "print(X)"
   ]
  },
  {
   "cell_type": "code",
   "execution_count": 37,
   "id": "06909aba-1883-49ca-8d81-6deb2262cf84",
   "metadata": {},
   "outputs": [
    {
     "data": {
      "text/plain": [
       "[[0.1151350975036621,\n",
       "  0.21945080757141114,\n",
       "  0.4094530582427979,\n",
       "  1.0383500576019287,\n",
       "  1.9707772731781006,\n",
       "  3.0151814460754394,\n",
       "  5.923446941375732,\n",
       "  14.621810913085938,\n",
       "  27.42362961769104,\n",
       "  37.30857934951782,\n",
       "  29.938614892959595,\n",
       "  27.163487720489503,\n",
       "  19.23037395477295,\n",
       "  17.647161769866944,\n",
       "  22.659733724594116,\n",
       "  22.345075798034667,\n",
       "  21.921456384658814],\n",
       " [0.08024487495422364,\n",
       "  0.15455927848815917,\n",
       "  0.27326092720031736,\n",
       "  0.4823433876037598,\n",
       "  0.8247636318206787,\n",
       "  1.1099267482757569,\n",
       "  2.0573440551757813,\n",
       "  4.082003402709961,\n",
       "  7.284257459640503,\n",
       "  9.868714141845704,\n",
       "  12.999133491516114,\n",
       "  16.27747497558594,\n",
       "  19.23168902397156,\n",
       "  22.64235725402832,\n",
       "  26.595413494110108,\n",
       "  29.34384951591492,\n",
       "  35.1268087387085]]"
      ]
     },
     "execution_count": 37,
     "metadata": {},
     "output_type": "execute_result"
    }
   ],
   "source": [
    "time_sinkhorn_list"
   ]
  },
  {
   "cell_type": "code",
   "execution_count": 43,
   "id": "7017cf55-5360-48a7-ae7c-7d83ec50a879",
   "metadata": {},
   "outputs": [
    {
     "data": {
      "image/png": "[encoded data removed]",
      "text/plain": [
       "<Figure size 640x480 with 1 Axes>"
      ]
     },
     "metadata": {},
     "output_type": "display_data"
    }
   ],
   "source": [
    "time_list=torch.load('experiment/test/results/time_list_numba_gaussian.pt')\n",
    "time_pot_list=time_list['pot']\n",
    "time_v2_list=time_list['v2']\n",
    "time_v2_a_list=time_list['v2_a']\n",
    "time_lp_list=time_list['lp']\n",
    "time_new_list=time_list['new']\n",
    "time_sinkhorn_list=time_list['sinkhorn']\n",
    "\n",
    "start_n=1500\n",
    "end_n=10000\n",
    "device='cpu'\n",
    "step=500\n",
    "k=10\n",
    "n_list=range(start_n,end_n,step)[1:]\n",
    "fig = plt.figure()\n",
    "ax = plt.subplot(111)\n",
    "\n",
    "plt.semilogy(n_list,time_pot_list[1:],'orange',label='partial OT')\n",
    "for j in range(2):\n",
    "#    plt.semilogy(n_list,time_v2_list[j][1:],label='ours,$\\lambda=$'+str(Lambda_list[j]))\n",
    "    plt.semilogy(n_list,time_sinkhorn_list[j][1:],'green',label='Sinkhorn,$\\lambda=$'+str(Lambda_list[j]))\n",
    "    plt.semilogy(n_list,time_lp_list[j][1:],'red',label='lp: python ot, C, $\\lambda=$'+str(Lambda_list[j]))\n",
    "    plt.semilogy(n_list,time_new_list[j][1:],'blue',linewidth=0.7,label='ours, $\\lambda=$'+str(Lambda_list[j]))\n",
    "box = ax.get_position()\n",
    "ax.set_position([box.x0, box.y0 + box.height * 0.1,\n",
    "                 box.width, box.height * 0.9])\n",
    "plt.legend(loc='upper center',bbox_to_anchor=(0.5, 1.22),\n",
    "          fancybox=True, shadow=True, ncol=3)\n",
    "plt.xlabel('n: size of X')\n",
    "plt.ylabel(\"wall time\")\n",
    "plt.savefig('experiment/test/results/time_gaussian_32.png',format='png',dpi=800,bbox_inches='tight')\n",
    "#plt.title('wall-clock time with accelaration')\n",
    "plt.show()"
   ]
  },
  {
   "cell_type": "code",
   "execution_count": 21,
   "id": "29f254c2-4a8f-4e62-a427-88152f9c4a22",
   "metadata": {},
   "outputs": [
    {
     "name": "stdout",
     "output_type": "stream",
     "text": [
      "float32\n",
      "float32\n",
      "float32\n",
      "<class 'numpy.float32'>\n",
      "0.1\n",
      "<class 'numpy.float32'>\n"
     ]
    }
   ],
   "source": [
    "reg=max(Lambda/40,0.1)\n",
    "start_time=time.time()\n",
    "M=cost_matrix(X1,Y1)\n",
    "\n",
    "print(mu.dtype)\n",
    "print(nu.dtype)\n",
    "print(M.dtype)\n",
    "print(type(Lambda))\n",
    "reg=np.float32(max(Lambda/40,0.1))\n",
    "\n",
    "print(type(reg))\n",
    "#sinkhorn_knopp_opt_32(mu,nu,M,Lambda,reg,numItermax=numItermax)\n",
    "end_time = time.time()\n",
    "\n"
   ]
  },
  {
   "cell_type": "code",
   "execution_count": 34,
   "id": "83b2bd5b-a6b9-446f-9bbf-170ae921b409",
   "metadata": {},
   "outputs": [
    {
     "name": "stdout",
     "output_type": "stream",
     "text": [
      "[[0.06439143 0.02368828]\n",
      " [0.00871443 0.00320586]]\n"
     ]
    }
   ],
   "source": [
    "mu = np.array([.1, .2])\n",
    "nu =np.array([.1, .1])\n",
    "M = np.array([[0., 1.], [2., 3.]])\n",
    "mass=0.1\n",
    "reg=1.0\n",
    "K=entropic_opt(mu,nu,M,mass,reg,1000000)\n",
    "print(K)"
   ]
  },
  {
   "cell_type": "code",
   "execution_count": 35,
   "id": "6ca4e2a9-d2af-4f6e-b5b5-2d310ac61e27",
   "metadata": {},
   "outputs": [
    {
     "name": "stdout",
     "output_type": "stream",
     "text": [
      "0.003829479217529297\n",
      "hello\n"
     ]
    }
   ],
   "source": [
    "start=time.time()\n",
    "for k in range(10):\n",
    "#    A=np.random.rand(5000,3)\n",
    "    B=np.random.rand(10000,3)\n",
    "end=time.time()\n",
    "print(end-start)\n",
    "print('hello')"
   ]
  },
  {
   "cell_type": "code",
   "execution_count": null,
   "id": "5e860ed2-040e-444b-a3e7-08a4f60474c8",
   "metadata": {},
   "outputs": [],
   "source": [
    "start=time.time()\n",
    "for k in range(10):\n",
    "    A=np.random.rand(5000,3)\n",
    "    B=np.random.rand(10000,3)\n",
    "    cost_matrix_d(A,B)\n",
    "end=time.time()\n",
    "print(end-start)"
   ]
  },
  {
   "cell_type": "code",
   "execution_count": 64,
   "id": "9cc589f1-143e-4d3e-ac4b-130802f0465b",
   "metadata": {},
   "outputs": [],
   "source": [
    "@nb.njit(['float32[:,:](float32[:,:],float32[:,:])'],fastmath=True)\n",
    "def cost_matrix_d_321(X,Y):\n",
    "    '''\n",
    "    input: \n",
    "        X: (n,) float np array\n",
    "        Y: (m,) float np array\n",
    "    output:\n",
    "        M: n*m matrix, M_ij=c(X_i,Y_j) where c is defined by cost_function.\n",
    "    \n",
    "    '''\n",
    "    n,d=X.shape\n",
    "    m=Y.shape[0]\n",
    "    M=np.empty((n,m),dtype=np.float32) \n",
    "    for i in range(n):\n",
    "        M[i]=np.sum(cost_function(X[i],Y),1)\n",
    "    return M"
   ]
  },
  {
   "cell_type": "code",
   "execution_count": 65,
   "id": "8088b096-c045-438a-9d7c-aedf951b35ff",
   "metadata": {},
   "outputs": [
    {
     "name": "stdout",
     "output_type": "stream",
     "text": [
      "7.603938817977905\n"
     ]
    }
   ],
   "source": [
    "\n",
    "start=time.time()\n",
    "for i in range(10):\n",
    "    X=np.random.rand(10000,3).astype(np.float32)\n",
    "    Y=np.random.rand(12000,3).astype(np.float32)\n",
    "    M1=cost_matrix_d_321(X,Y)\n",
    "end=time.time()\n",
    "print(end-start)"
   ]
  },
  {
   "cell_type": "code",
   "execution_count": 66,
   "id": "334b954b-5a73-4970-8451-07e02d9042aa",
   "metadata": {},
   "outputs": [
    {
     "name": "stdout",
     "output_type": "stream",
     "text": [
      "11.36817717552185\n"
     ]
    }
   ],
   "source": [
    "start=time.time()\n",
    "for i in range(10):\n",
    "    X=np.random.rand(10000,3).astype(np.float32)\n",
    "    Y=np.random.rand(12000,3).astype(np.float32)\n",
    "    M1=cost_matrix_d_32(X,Y)\n",
    "end=time.time()\n",
    "print(end-start)"
   ]
  },
  {
   "cell_type": "code",
   "execution_count": null,
   "id": "18dbdefa-2b87-42be-a9e3-82c2ff632092",
   "metadata": {},
   "outputs": [],
   "source": []
  }
 ],
 "metadata": {
  "kernelspec": {
   "display_name": "Python 3 (ipykernel)",
   "language": "python",
   "name": "python3"
  },
  "language_info": {
   "codemirror_mode": {
    "name": "ipython",
    "version": 3
   },
   "file_extension": ".py",
   "mimetype": "text/x-python",
   "name": "python",
   "nbconvert_exporter": "python",
   "pygments_lexer": "ipython3",
   "version": "3.10.9"
  },
  "toc-autonumbering": false
 },
 "nbformat": 4,
 "nbformat_minor": 5
}
