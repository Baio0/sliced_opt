{
 "cells": [
  {
   "cell_type": "code",
   "execution_count": 1,
   "id": "ccc01dbe-28e4-428e-82d3-9160fd8b653f",
   "metadata": {},
   "outputs": [
    {
     "name": "stdout",
     "output_type": "stream",
     "text": [
      "/home/baly/projects/sliced_opt/code/sopt\n"
     ]
    }
   ],
   "source": [
    "import sys\n",
    "from mpl_toolkits import mplot3d\n",
    "from mpl_toolkits.mplot3d import Axes3D\n",
    "import os\n",
    "import matplotlib.pyplot as plt\n",
    "import numpy as np\n",
    "import ot\n",
    "import time\n",
    "import numba as nb\n",
    "import numpy as np\n",
    "print(os.getcwd())\n",
    "os.chdir('/home/baly/projects/sliced_opt')\n",
    "from sopt.library import *\n",
    "from sopt.lib_ot import * \n",
    "import pot1d"
   ]
  },
  {
   "cell_type": "code",
   "execution_count": 2,
   "id": "4e24f2af-32e5-467d-836f-e23949a46d3f",
   "metadata": {},
   "outputs": [],
   "source": [
    "@nb.njit(['float64[:,:](float64[:],float64[:])','float32[:,:](float32[:],float32[:])'],fastmath=True)\n",
    "def cost_matrix(X,Y):\n",
    "    '''\n",
    "    input: \n",
    "        X: (n,) float np array\n",
    "        Y: (m,) float np array\n",
    "    output:\n",
    "        M: n*m matrix, M_ij=c(X_i,Y_j) where c is defined by cost_function.\n",
    "    \n",
    "    '''\n",
    "    XT=np.expand_dims(X,1)\n",
    "    M=(XT-Y)**2\n",
    "    return M"
   ]
  },
  {
   "cell_type": "code",
   "execution_count": 3,
   "id": "44a3de38-d058-4a26-9714-b368c18b3414",
   "metadata": {},
   "outputs": [
    {
     "name": "stdout",
     "output_type": "stream",
     "text": [
      "case 1 10.48372507095337\n",
      "case 2 4.029693603515625\n"
     ]
    }
   ],
   "source": [
    "n=int(5e4)\n",
    "X=np.random.uniform(-20,20,size=n)\n",
    "Y=X.copy()+0.01\n",
    "Lambda=100.0\n",
    "X.sort()\n",
    "Y.sort()\n",
    "time_start=time.time()\n",
    "pot1d.solve(X,Y,Lambda)\n",
    "time_end=time.time()\n",
    "print('case 1',time_end-time_start)\n",
    "\n",
    "Y=2*Y\n",
    "time_start=time.time()\n",
    "pot1d.solve(X,Y,Lambda)\n",
    "time_end=time.time()\n",
    "print('case 2',time_end-time_start)\n",
    "\n"
   ]
  },
  {
   "cell_type": "code",
   "execution_count": 7,
   "id": "b5a46ed2-b7b9-4e41-8140-f5acfd72e27e",
   "metadata": {},
   "outputs": [
    {
     "name": "stdout",
     "output_type": "stream",
     "text": [
      "case 1 0.47738075256347656\n",
      "case 2 1.022550106048584\n"
     ]
    }
   ],
   "source": [
    "n=int(1e4)\n",
    "X=np.random.uniform(-20,20,size=n)\n",
    "Y=X.copy()+0.01\n",
    "Lambda=100.0\n",
    "X.sort()\n",
    "Y.sort()\n",
    "time_start=time.time()\n",
    "M=cost_matrix(X,Y)\n",
    "pot(M)\n",
    "time_end=time.time()\n",
    "print('case 1',time_end-time_start)\n",
    "\n",
    "Y=2*Y\n",
    "time_start=time.time()\n",
    "M=cost_matrix(X,Y)\n",
    "pot(M)\n",
    "time_end=time.time()\n",
    "print('case 2',time_end-time_start)\n"
   ]
  },
  {
   "cell_type": "code",
   "execution_count": 32,
   "id": "f1cd90a3-bb93-427d-ab36-9705598f4a92",
   "metadata": {},
   "outputs": [
    {
     "data": {
      "text/plain": [
       "1.006753921508789"
      ]
     },
     "execution_count": 32,
     "metadata": {},
     "output_type": "execute_result"
    }
   ],
   "source": [
    "time_end-time_start"
   ]
  },
  {
   "cell_type": "code",
   "execution_count": 47,
   "id": "e1531446-de03-4aa3-ab2c-eadf32d81bd0",
   "metadata": {},
   "outputs": [],
   "source": [
    "pi=np.array([[1,2],[3,4]])\n",
    "pi.reshape(-1)\n",
    "X=np.random.rand(2)\n",
    "Y=np.random.rand(3)\n",
    "M=cost_matrix(X,Y)\n",
    "mu=np.ones(3)/3\n",
    "nu=np.ones(2)/2\n",
    "eps=1"
   ]
  },
  {
   "cell_type": "code",
   "execution_count": 85,
   "id": "930b6d60-2cbe-401f-9271-b6a58bcb3f87",
   "metadata": {},
   "outputs": [
    {
     "name": "stdout",
     "output_type": "stream",
     "text": [
      "     pcost       dcost       gap    pres   dres   k/t\n",
      " 0:  5.3930e-02  5.3930e-02  2e+01  4e+00  3e+00  1e+00\n",
      " 1:  4.4929e-02  5.0550e-02  2e+00  6e-01  4e-01  2e-01\n",
      " 2:  1.0468e-01  3.2809e+00  1e+02  1e+00  1e+00  4e+00\n",
      " 3:  1.0618e-01  3.1426e+02  1e+04  1e+00  9e-01  3e+02\n",
      " 4:  1.0618e-01  3.1437e+04  1e+06  1e+00  9e-01  3e+04\n",
      " 5:  1.0618e-01  3.1438e+06  1e+08  1e+00  9e-01  3e+06\n",
      " 6:  1.0618e-01  3.1438e+08  1e+10  1e+00  9e-01  3e+08\n",
      "Certificate of primal infeasibility found.\n"
     ]
    }
   ],
   "source": [
    "n,m=M.shape\n",
    "c=M.reshape(-1) # this is the object function \n",
    "margin1=(np.ones((1,1,m))*(np.eye(n).reshape(n,n,1))).reshape(n,n*m)\n",
    "margin2=(np.eye(m).reshape((m,m,1))*np.ones((1,1,n))).reshape(m,n*m)\n",
    "\n",
    "A=np.vstack((margin1,margin2,-margin1,-margin2,-np.eye(n*m)))\n",
    "\n",
    "\n",
    "b=np.concatenate((mu,nu,-mu,-nu,np.zeros(n*m)))\n",
    "\n",
    "A_x=matrix(A)\n",
    "b_x=matrix(b)\n",
    "c_x=matrix(c)\n",
    "sol=solvers.lp(c_x,A_x,b_x)\n",
    "pi=sol['x']\n",
    "#pi=pi.reshape((n,m))\n",
    "#print(pi)"
   ]
  },
  {
   "cell_type": "code",
   "execution_count": 84,
   "id": "b442faaa-60c3-44e1-b09c-80e43f7c69f2",
   "metadata": {},
   "outputs": [
    {
     "data": {
      "text/plain": [
       "{'x': None,\n",
       " 'y': <0x1 matrix, tc='d'>,\n",
       " 's': None,\n",
       " 'z': <16x1 matrix, tc='d'>,\n",
       " 'status': 'primal infeasible',\n",
       " 'gap': None,\n",
       " 'relative gap': None,\n",
       " 'primal objective': None,\n",
       " 'dual objective': 1.0,\n",
       " 'primal infeasibility': None,\n",
       " 'dual infeasibility': None,\n",
       " 'primal slack': None,\n",
       " 'dual slack': 2.468128289889089,\n",
       " 'residual as primal infeasibility certificate': 3.555305106472472e-09,\n",
       " 'residual as dual infeasibility certificate': None,\n",
       " 'iterations': 6}"
      ]
     },
     "execution_count": 84,
     "metadata": {},
     "output_type": "execute_result"
    }
   ],
   "source": [
    "sol"
   ]
  },
  {
   "cell_type": "code",
   "execution_count": 68,
   "id": "a94ba031-0e7a-4a01-a130-9b96a37f1840",
   "metadata": {},
   "outputs": [
    {
     "data": {
      "image/png": "[encoded data removed]",
      "text/plain": [
       "<Figure size 640x480 with 1 Axes>"
      ]
     },
     "metadata": {},
     "output_type": "display_data"
    }
   ],
   "source": [
    "n_list=np.arange(10,10000,500)\n",
    "fig = plt.figure()\n",
    "ax = plt.subplot(111)\n",
    "\n",
    "ax.loglog(n_list,n_list**2,label='$n^2$')\n",
    "ax.loglog(n_list,n_list**3,label='$n^3$')\n",
    "ax.loglog(n_list,n_list**4,label='$n^4$')\n",
    "ax.legend()\n",
    "plt.show()\n"
   ]
  },
  {
   "cell_type": "code",
   "execution_count": 86,
   "id": "766e2f2d-f52c-4dea-8093-0d70386eb84c",
   "metadata": {},
   "outputs": [
    {
     "ename": "NameError",
     "evalue": "name 'pot1d' is not defined",
     "output_type": "error",
     "traceback": [
      "\u001b[0;31m---------------------------------------------------------------------------\u001b[0m",
      "\u001b[0;31mNameError\u001b[0m                                 Traceback (most recent call last)",
      "Cell \u001b[0;32mIn [86], line 1\u001b[0m\n\u001b[0;32m----> 1\u001b[0m \u001b[43mpot1d\u001b[49m\u001b[38;5;241m.\u001b[39msolve\n",
      "\u001b[0;31mNameError\u001b[0m: name 'pot1d' is not defined"
     ]
    }
   ],
   "source": [
    "pot1d.solve"
   ]
  },
  {
   "cell_type": "code",
   "execution_count": null,
   "id": "afef10da-06fe-4d2c-95ba-120868770091",
   "metadata": {},
   "outputs": [],
   "source": []
  }
 ],
 "metadata": {
  "kernelspec": {
   "display_name": "Python 3 (ipykernel)",
   "language": "python",
   "name": "python3"
  },
  "language_info": {
   "codemirror_mode": {
    "name": "ipython",
    "version": 3
   },
   "file_extension": ".py",
   "mimetype": "text/x-python",
   "name": "python",
   "nbconvert_exporter": "python",
   "pygments_lexer": "ipython3",
   "version": "3.10.9"
  }
 },
 "nbformat": 4,
 "nbformat_minor": 5
}
