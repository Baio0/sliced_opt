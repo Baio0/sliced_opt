{
 "cells": [
  {
   "cell_type": "code",
   "execution_count": 1,
   "id": "f98d09ca-aaab-4aa9-9061-ffa50a9f5e94",
   "metadata": {},
   "outputs": [],
   "source": [
    "import opt\n",
    "#from distances import *\n",
    "from sopt.lib_ot import *"
   ]
  },
  {
   "cell_type": "code",
   "execution_count": 2,
   "id": "8b43d72b-73ae-4076-a56f-0cbdecc720d4",
   "metadata": {},
   "outputs": [],
   "source": [
    "# test the accuracy \n",
    "n_projections=50\n",
    "n=200\n",
    "\n",
    "X_projections=np.random.rand(n_projections,n)\n",
    "Y_projections=np.random.rand(n_projections,n+20)\n",
    "X_projections.sort(),Y_projections.sort()\n",
    "Lambda_list=abs(np.random.rand(n_projections))\n",
    "\n",
    "cost1,plan1=sliced_opt(X_projections,Y_projections,Lambda_list)\n",
    "# cos2,plan2=your_function()\n",
    "#error=np.linalg.norm(cost1-cost2)\n",
    "#print(error)\n"
   ]
  },
  {
   "cell_type": "code",
   "execution_count": null,
   "id": "8e431d60-9975-424f-83c4-926ebd5a9079",
   "metadata": {},
   "outputs": [
    {
     "name": "stdout",
     "output_type": "stream",
     "text": [
      "1.47 s ± 62.7 ms per loop (mean ± std. dev. of 7 runs, 1 loop each)\n"
     ]
    }
   ],
   "source": [
    "# test running time \n",
    "n_projections=50\n",
    "n=20000\n",
    "\n",
    "X_projections=np.random.rand(n_projections,n)\n",
    "Y_projections=np.random.rand(n_projections,n)\n",
    "X_projections.sort(),Y_projections.sort()\n",
    "Lambda_list=abs(np.random.rand(n_projections))\n",
    "\n",
    "%timeit sliced_opt(X_projections,Y_projections,Lambda_list)\n",
    "%timeit opt.parallel_sliced_opt(X_projections,Y_projections,Lambda_list)\n",
    "%timeit opt.sliced_opt(X_projections,Y_projections,Lambda_list)"
   ]
  },
  {
   "cell_type": "code",
   "execution_count": 26,
   "id": "b91666d6-4fe6-43b0-9cd4-5f71b416d3de",
   "metadata": {},
   "outputs": [],
   "source": [
    "#@nb.njit(['(float64)(float64[:,:],float64[:,:],float64,float64,float64,int64)'],fastmath=True,cache=True)\n",
    "def sliced_ptlp_nb(signal1,signal2,beta,Lambda0,theta0, p=2.,n_projections=50):\n",
    "    #Lambda_list is the \\lambda in the paper and is the beta parameter in other functions \n",
    "    #beta_inv is 1/\\beta in the paper and is the L parameter in other functions \n",
    "    x_a,x_b = np.expand_dims(np.linspace(0, 1, signal1.shape[0]), 1), np.expand_dims(np.linspace(0, 1, signal2.shape[0]), 1)\n",
    "    D1,D2=~np.isnan(signal1.sum(1)),~np.isnan(signal2.sum(1))\n",
    "    signal1, signal2 =signal1[D1], signal2[D2]\n",
    "    x_a,x_b=x_a[D1],x_b[D2]\n",
    "    K=x_a.shape[0]\n",
    "    X_a,X_b=np.hstack(((1/beta)**(1/p)*x_a,signal1)),np.hstack(((1/beta)**(1/p)*x_b,signal2))\n",
    "    n,d=X_a.shape\n",
    "    projections = random_projections(d, n_projections,0)\n",
    "    Lambda_list=np.full(n_projections,Lambda0)\n",
    "    weights=np.abs(theta0.dot(projections.T))\n",
    "    Lambda_list*=weights\n",
    "    X_a_projections,X_b_projections=projections.dot(X_a.T),projections.dot(X_b.T) \n",
    "    X_a_projections.sort()\n",
    "    X_b_projections.sort()\n",
    "    opt_dist_list=sliced_opt(X_a_projections,X_b_projections,Lambda_list,p)\n",
    "    sptlp_dist=np.sum(opt_dist_list)/n_projections*1/K\n",
    "    return sptlp_dist\n",
    "\n",
    "@nb.njit(cache=True)\n",
    "def sliced_ptlp_nb2(signal1,signal2,beta,Lambda0,theta0, p=2.,n_projections=50):\n",
    "    #Lambda_list is the \\lambda in the paper and is the beta parameter in other functions \n",
    "    #beta_inv is 1/\\beta in the paper and is the L parameter in other functions \n",
    "    x_a,x_b = np.expand_dims(np.linspace(0, 1, signal1.shape[0]), 1), np.expand_dims(np.linspace(0, 1, signal2.shape[0]), 1)\n",
    "    D1,D2=~np.isnan(signal1.sum(1)),~np.isnan(signal2.sum(1))\n",
    "    signal1, signal2 =signal1[D1], signal2[D2]\n",
    "    x_a,x_b=x_a[D1],x_b[D2]\n",
    "    K=x_a.shape[0]\n",
    "    X_a,X_b=np.hstack(((1/beta)**(1/p)*x_a,signal1)),np.hstack(((1/beta)**(1/p)*x_b,signal2))\n",
    "    n,d=X_a.shape\n",
    "    projections = random_projections(d, n_projections,0)\n",
    "    Lambda_list=np.full(n_projections,Lambda0)\n",
    "    weights=np.abs(theta0.dot(projections.T))\n",
    "    Lambda_list*=weights\n",
    "    X_a_projections,X_b_projections=projections.dot(X_a.T),projections.dot(X_b.T) \n",
    "    X_a_projections.sort()\n",
    "    X_b_projections.sort()\n",
    "    opt_dist_list=sliced_opt(X_a_projections,X_b_projections,Lambda_list,p)\n",
    "    sptlp_dist=np.sum(opt_dist_list)/n_projections*1/K\n",
    "    return sptlp_dist\n",
    "\n",
    "def sliced_ptlp_c(signal1,signal2,beta,Lambda0,theta0, p=2.,n_projections=50):\n",
    "    #Lambda_list is the \\lambda in the paper and is the beta parameter in other functions \n",
    "    #beta_inv is 1/\\beta in the paper and is the L parameter in other functions \n",
    "    x_a,x_b = np.expand_dims(np.linspace(0, 1, signal1.shape[0]), 1), np.expand_dims(np.linspace(0, 1, signal2.shape[0]), 1)\n",
    "    D1,D2=~np.isnan(signal1.sum(1)),~np.isnan(signal2.sum(1))\n",
    "    signal1, signal2 =signal1[D1], signal2[D2]\n",
    "    x_a,x_b=x_a[D1],x_b[D2]\n",
    "    K=x_a.shape[0]\n",
    "    X_a,X_b=np.hstack(((1/beta)**(1/p)*x_a,signal1)),np.hstack(((1/beta)**(1/p)*x_b,signal2))\n",
    "    n,d=X_a.shape\n",
    "    projections = random_projections(d, n_projections,0)\n",
    "    Lambda_list=np.full(n_projections,Lambda0)\n",
    "    weights=np.abs(theta0.dot(projections.T))\n",
    "    Lambda_list*=weights\n",
    "    X_a_projections,X_b_projections=projections.dot(X_a.T),projections.dot(X_b.T) \n",
    "    X_a_projections.sort()\n",
    "    X_b_projections.sort()\n",
    "    opt_dist_list,_=opt_c.sliced_opt(X_a_projections,X_b_projections,Lambda_list)\n",
    "    sptlp_dist=np.sum(opt_dist_list)/n_projections*1/K\n",
    "    return sptlp_dist"
   ]
  },
  {
   "cell_type": "code",
   "execution_count": 27,
   "id": "78fc0b3e-aecb-47a0-8e96-c288c4246ff9",
   "metadata": {},
   "outputs": [
    {
     "data": {
      "text/plain": [
       "<function opt_c.PyCapsule.solve>"
      ]
     },
     "execution_count": 27,
     "metadata": {},
     "output_type": "execute_result"
    }
   ],
   "source": [
    "opt_c.solve"
   ]
  },
  {
   "cell_type": "code",
   "execution_count": 21,
   "id": "cda2eaeb-f63c-4960-92eb-e6dff905c951",
   "metadata": {},
   "outputs": [],
   "source": [
    "@nb.njit(fastmath=True,cache=True,parallel=True)\n",
    "def sliced_opt1(X_projections,Y_projections,Lambda_list,p=2):\n",
    "    #X_projections: n_projections* n shape, float64 \n",
    "    #Y_projections: n_projections* m shape, float64 \n",
    "    #Lambda_list: (n_projections,) shape, float64 \n",
    "    #p \n",
    "    n_projections,n=X_projections.shape\n",
    "    opt_cost_list=np.zeros(n_projections)\n",
    "    opt_plan_list=np.zeros((n_projections,n))\n",
    "    for epoch in range(n_projections):\n",
    "        X_theta,Y_theta,Lambda=X_projections[epoch],Y_projections[epoch],Lambda_list[epoch]  \n",
    "        #M=cost_matrix(X_theta,Y_theta,p)\n",
    "        obj,phi,psi,piRow,piCol=opt_c.solve(X_theta,Y_theta,Lambda)\n",
    "        opt_cost_list[epoch]=obj\n",
    "        opt_plan_list[epoch]=piRow\n",
    "    return opt_cost_list,opt_plan_list\n",
    "\n",
    "@nb.njit(fastmath=True,cache=True,parallel=True)\n",
    "def sliced_opt2(X_projections,Y_projections,Lambda_list,p=2):\n",
    "    #X_projections: n_projections* n shape, float64 \n",
    "    #Y_projections: n_projections* m shape, float64 \n",
    "    #Lambda_list: (n_projections,) shape, float64 \n",
    "    #p \n",
    "    n_projections,n=X_projections.shape\n",
    "    opt_cost_list=np.zeros(n_projections)\n",
    "    opt_plan_list=np.zeros((n_projections,n))\n",
    "    for epoch in range(n_projections):\n",
    "        X_theta,Y_theta,Lambda=X_projections[epoch],Y_projections[epoch],Lambda_list[epoch]  \n",
    "        M=cost_matrix(X_theta,Y_theta,p)\n",
    "        obj,phi,psi,piRow,piCol=solve_opt(M,Lambda)\n",
    "        opt_cost_list[epoch]=obj\n",
    "        opt_plan_list[epoch]=piRow\n",
    "    return opt_cost_list,opt_plan_list"
   ]
  },
  {
   "cell_type": "code",
   "execution_count": 22,
   "id": "6b7ccf12-e5f6-4953-bb83-7b6615dc04c4",
   "metadata": {},
   "outputs": [
    {
     "ename": "TypingError",
     "evalue": "Failed in nopython mode pipeline (step: nopython frontend)\nUnknown attribute 'solve' of type Module(<module 'opt_c' from '/home/baly/projects/PTLP/PTLP/opt_c.so'>)\n\nFile \"../../../../../tmp/ipykernel_3550270/681616093.py\", line 13:\n<source missing, REPL/exec in use?>\n\nDuring: typing of get attribute at /tmp/ipykernel_3550270/681616093.py (13)\n\nFile \"../../../../../tmp/ipykernel_3550270/681616093.py\", line 13:\n<source missing, REPL/exec in use?>\n",
     "output_type": "error",
     "traceback": [
      "\u001b[0;31m---------------------------------------------------------------------------\u001b[0m",
      "\u001b[0;31mTypingError\u001b[0m                               Traceback (most recent call last)",
      "Cell \u001b[0;32mIn [22], line 6\u001b[0m\n\u001b[1;32m      4\u001b[0m Y_projections\u001b[38;5;241m.\u001b[39msort()\n\u001b[1;32m      5\u001b[0m Lambda_list\u001b[38;5;241m=\u001b[39m\u001b[38;5;28mabs\u001b[39m(np\u001b[38;5;241m.\u001b[39mrandom\u001b[38;5;241m.\u001b[39mrand(\u001b[38;5;241m1000\u001b[39m))\n\u001b[0;32m----> 6\u001b[0m \u001b[43msliced_opt1\u001b[49m\u001b[43m(\u001b[49m\u001b[43mX_projections\u001b[49m\u001b[43m,\u001b[49m\u001b[43mY_projections\u001b[49m\u001b[43m,\u001b[49m\u001b[43mLambda_list\u001b[49m\u001b[43m,\u001b[49m\u001b[43mp\u001b[49m\u001b[38;5;241;43m=\u001b[39;49m\u001b[38;5;241;43m2\u001b[39;49m\u001b[43m)\u001b[49m\n",
      "File \u001b[0;32m~/miniconda3/envs/pot/lib/python3.10/site-packages/numba/core/dispatcher.py:468\u001b[0m, in \u001b[0;36m_DispatcherBase._compile_for_args\u001b[0;34m(self, *args, **kws)\u001b[0m\n\u001b[1;32m    464\u001b[0m         msg \u001b[38;5;241m=\u001b[39m (\u001b[38;5;124mf\u001b[39m\u001b[38;5;124m\"\u001b[39m\u001b[38;5;132;01m{\u001b[39;00m\u001b[38;5;28mstr\u001b[39m(e)\u001b[38;5;241m.\u001b[39mrstrip()\u001b[38;5;132;01m}\u001b[39;00m\u001b[38;5;124m \u001b[39m\u001b[38;5;130;01m\\n\u001b[39;00m\u001b[38;5;130;01m\\n\u001b[39;00m\u001b[38;5;124mThis error may have been caused \u001b[39m\u001b[38;5;124m\"\u001b[39m\n\u001b[1;32m    465\u001b[0m                \u001b[38;5;124mf\u001b[39m\u001b[38;5;124m\"\u001b[39m\u001b[38;5;124mby the following argument(s):\u001b[39m\u001b[38;5;130;01m\\n\u001b[39;00m\u001b[38;5;132;01m{\u001b[39;00margs_str\u001b[38;5;132;01m}\u001b[39;00m\u001b[38;5;130;01m\\n\u001b[39;00m\u001b[38;5;124m\"\u001b[39m)\n\u001b[1;32m    466\u001b[0m         e\u001b[38;5;241m.\u001b[39mpatch_message(msg)\n\u001b[0;32m--> 468\u001b[0m     \u001b[43merror_rewrite\u001b[49m\u001b[43m(\u001b[49m\u001b[43me\u001b[49m\u001b[43m,\u001b[49m\u001b[43m \u001b[49m\u001b[38;5;124;43m'\u001b[39;49m\u001b[38;5;124;43mtyping\u001b[39;49m\u001b[38;5;124;43m'\u001b[39;49m\u001b[43m)\u001b[49m\n\u001b[1;32m    469\u001b[0m \u001b[38;5;28;01mexcept\u001b[39;00m errors\u001b[38;5;241m.\u001b[39mUnsupportedError \u001b[38;5;28;01mas\u001b[39;00m e:\n\u001b[1;32m    470\u001b[0m     \u001b[38;5;66;03m# Something unsupported is present in the user code, add help info\u001b[39;00m\n\u001b[1;32m    471\u001b[0m     error_rewrite(e, \u001b[38;5;124m'\u001b[39m\u001b[38;5;124munsupported_error\u001b[39m\u001b[38;5;124m'\u001b[39m)\n",
      "File \u001b[0;32m~/miniconda3/envs/pot/lib/python3.10/site-packages/numba/core/dispatcher.py:409\u001b[0m, in \u001b[0;36m_DispatcherBase._compile_for_args.<locals>.error_rewrite\u001b[0;34m(e, issue_type)\u001b[0m\n\u001b[1;32m    407\u001b[0m     \u001b[38;5;28;01mraise\u001b[39;00m e\n\u001b[1;32m    408\u001b[0m \u001b[38;5;28;01melse\u001b[39;00m:\n\u001b[0;32m--> 409\u001b[0m     \u001b[38;5;28;01mraise\u001b[39;00m e\u001b[38;5;241m.\u001b[39mwith_traceback(\u001b[38;5;28;01mNone\u001b[39;00m)\n",
      "\u001b[0;31mTypingError\u001b[0m: Failed in nopython mode pipeline (step: nopython frontend)\nUnknown attribute 'solve' of type Module(<module 'opt_c' from '/home/baly/projects/PTLP/PTLP/opt_c.so'>)\n\nFile \"../../../../../tmp/ipykernel_3550270/681616093.py\", line 13:\n<source missing, REPL/exec in use?>\n\nDuring: typing of get attribute at /tmp/ipykernel_3550270/681616093.py (13)\n\nFile \"../../../../../tmp/ipykernel_3550270/681616093.py\", line 13:\n<source missing, REPL/exec in use?>\n"
     ]
    }
   ],
   "source": [
    "X_projections=np.random.rand(1000,20)\n",
    "Y_projections=np.random.rand(1000,50)\n",
    "X_projections.sort()\n",
    "Y_projections.sort()\n",
    "Lambda_list=abs(np.random.rand(1000))\n",
    "sliced_opt1(X_projections,Y_projections,Lambda_list,p=2)\n"
   ]
  },
  {
   "cell_type": "code",
   "execution_count": null,
   "id": "c0fb28e0-836b-4b6f-a324-ffa48dff3f3c",
   "metadata": {},
   "outputs": [],
   "source": [
    "signal1=np.random.rand(5000,1)\n",
    "signal2=np.random.rand(5000,1)\n",
    "beta=10.0\n",
    "Lambda0=0.2\n",
    "theta0=np.array([.0,1.0])\n",
    "%timeit sliced_ptlp_nb(signal1,signal2,beta,Lambda0,theta0, p=2.,n_projections=50)\n",
    "%timeit sliced_ptlp_nb2(signal1,signal2,beta,Lambda0,theta0, p=2.,n_projections=1)\n",
    "%timeit sliced_ptlp_c(signal1,signal2,beta,Lambda0,theta0, p=2.,n_projections=1)"
   ]
  },
  {
   "cell_type": "code",
   "execution_count": 30,
   "id": "e349b306-410a-4ce6-b50b-b7681579cfed",
   "metadata": {},
   "outputs": [
    {
     "name": "stdout",
     "output_type": "stream",
     "text": [
      "done\n"
     ]
    },
    {
     "ename": "NameError",
     "evalue": "name 'opt' is not defined",
     "output_type": "error",
     "traceback": [
      "\u001b[0;31m---------------------------------------------------------------------------\u001b[0m",
      "\u001b[0;31mNameError\u001b[0m                                 Traceback (most recent call last)",
      "Cell \u001b[0;32mIn [30], line 9\u001b[0m\n\u001b[1;32m      7\u001b[0m \u001b[38;5;28mprint\u001b[39m(\u001b[38;5;124m'\u001b[39m\u001b[38;5;124mdone\u001b[39m\u001b[38;5;124m'\u001b[39m)\n\u001b[1;32m      8\u001b[0m obj1,plan1\u001b[38;5;241m=\u001b[39msliced_opt_C(X_projections,Y_projections,Lambda_list)\n\u001b[0;32m----> 9\u001b[0m obj2,plan2\u001b[38;5;241m=\u001b[39m\u001b[43mopt\u001b[49m\u001b[38;5;241m.\u001b[39msliced_opt(X_projections,Y_projections,Lambda_list)\n\u001b[1;32m     10\u001b[0m error\u001b[38;5;241m=\u001b[39mnp\u001b[38;5;241m.\u001b[39mlinalg\u001b[38;5;241m.\u001b[39mnorm(obj1\u001b[38;5;241m-\u001b[39mobj2)\n\u001b[1;32m     11\u001b[0m \u001b[38;5;28mprint\u001b[39m(error)\n",
      "\u001b[0;31mNameError\u001b[0m: name 'opt' is not defined"
     ]
    }
   ],
   "source": [
    "for i in range(10):\n",
    "    X_projections=np.random.rand(10,1000)\n",
    "    Y_projections=np.random.rand(10,1000)\n",
    "    Lambda_list=abs(np.random.rand(10))\n",
    "    X_projections.sort()\n",
    "    Y_projections.sort()\n",
    "    print('done')\n",
    "    obj1,plan1=sliced_opt_C(X_projections,Y_projections,Lambda_list)\n",
    "    obj2,plan2=opt.sliced_opt(X_projections,Y_projections,Lambda_list)\n",
    "    error=np.linalg.norm(obj1-obj2)\n",
    "    print(error)"
   ]
  },
  {
   "cell_type": "code",
   "execution_count": 6,
   "id": "29ceddad-57da-4d08-8483-04eddd8e86b3",
   "metadata": {},
   "outputs": [],
   "source": [
    "X_projections=np.random.rand(10,1000)\n",
    "Y_projections=np.random.rand(10,1000)\n",
    "Lambda_list=abs(np.random.rand(10))\n",
    "X_projections.sort()\n",
    "Y_projections.sort()"
   ]
  },
  {
   "cell_type": "code",
   "execution_count": 7,
   "id": "d8892109-0847-4e24-a1dc-df63e51d2f4c",
   "metadata": {},
   "outputs": [
    {
     "data": {
      "text/plain": [
       "(array([0.27623354, 0.07774271, 0.54588066, 0.67116766, 0.22766288,\n",
       "        0.25776601, 0.23595076, 0.09726555, 0.1566605 , 0.11533289]),\n",
       " array([[  0,   1,   2, ..., 997, 998, 999],\n",
       "        [  0,   1,   2, ..., 997, 998, 999],\n",
       "        [  0,   1,   2, ..., 997, 998, 999],\n",
       "        ...,\n",
       "        [  0,   1,   2, ..., 997, 998, 999],\n",
       "        [  0,   1,   2, ..., 997, 998, 999],\n",
       "        [  0,   1,   2, ..., 997, 998, 999]], dtype=int32))"
      ]
     },
     "execution_count": 7,
     "metadata": {},
     "output_type": "execute_result"
    }
   ],
   "source": [
    "opt.sliced_opt(X_projections, Y_projections, Lambda_list)"
   ]
  },
  {
   "cell_type": "code",
   "execution_count": null,
   "id": "568d9577-3a7c-4bba-bd9c-1e15bbfdf1dc",
   "metadata": {},
   "outputs": [],
   "source": []
  }
 ],
 "metadata": {
  "kernelspec": {
   "display_name": "Python 3 (ipykernel)",
   "language": "python",
   "name": "python3"
  },
  "language_info": {
   "codemirror_mode": {
    "name": "ipython",
    "version": 3
   },
   "file_extension": ".py",
   "mimetype": "text/x-python",
   "name": "python",
   "nbconvert_exporter": "python",
   "pygments_lexer": "ipython3",
   "version": "3.10.11"
  }
 },
 "nbformat": 4,
 "nbformat_minor": 5
}
