{
 "cells": [
  {
   "cell_type": "code",
   "execution_count": 1,
   "id": "14682d0e-0e38-4a97-ae7f-5d1810e03af6",
   "metadata": {},
   "outputs": [
    {
     "name": "stderr",
     "output_type": "stream",
     "text": [
      "/home/baly/projects/Sliced_opt/code/sopt/sliced_opt.py:125: NumbaPerformanceWarning: np.dot() is faster on contiguous arrays, called on (array(float64, 1d, A), array(float64, 2d, A))\n",
      "  X_theta=np.dot(theta,X.T)\n",
      "/home/baly/projects/Sliced_opt/code/sopt/sliced_opt.py:226: NumbaPerformanceWarning: np.dot() is faster on contiguous arrays, called on (array(float32, 1d, A), array(float32, 2d, A))\n",
      "  X_theta=np.dot(theta,X.T)\n"
     ]
    }
   ],
   "source": [
    "import sys\n",
    "from mpl_toolkits import mplot3d\n",
    "from mpl_toolkits.mplot3d import Axes3D\n",
    "import os\n",
    "import matplotlib.pyplot as plt\n",
    "import numpy as np\n",
    "import ot\n",
    "import time\n",
    "import numba\n",
    "\n",
    "parent_path='/home/baly/projects/Sliced_opt/code'\n",
    "sys.path.append(parent_path)\n",
    "os.chdir(parent_path)\n",
    "from sopt.library import *\n",
    "from sopt.lib_shape import *\n",
    "from sopt.lib_ot import *   \n",
    "from sopt.sliced_opt import *  \n"
   ]
  },
  {
   "cell_type": "code",
   "execution_count": 3,
   "id": "22732622-a0fe-46ee-b8f8-b23776c2d63a",
   "metadata": {},
   "outputs": [],
   "source": [
    "def cost_matrix1(X,Y):\n",
    "    n,d=X.shape\n",
    "    m=Y.shape[0]\n",
    "    M=np.zeros((n,m))\n",
    "    for i in range(d):\n",
    "        C=cost_function(X[:,i],Y[:,i:i+1].T)\n",
    "        M+=C\n",
    "    return M\n",
    "\n",
    "        "
   ]
  },
  {
   "cell_type": "code",
   "execution_count": 5,
   "id": "b99577b1-c1c6-4405-8a93-428ff98281c1",
   "metadata": {},
   "outputs": [
    {
     "data": {
      "text/plain": [
       "array([[0., 0., 0., 0., 0.],\n",
       "       [0., 0., 0., 0., 0.],\n",
       "       [0., 0., 0., 0., 0.],\n",
       "       [0., 0., 0., 0., 0.],\n",
       "       [0., 0., 0., 0., 0.]])"
      ]
     },
     "execution_count": 5,
     "metadata": {},
     "output_type": "execute_result"
    }
   ],
   "source": [
    "X=np.random.rand(5,3)\n",
    "Y=X.copy()\n",
    "cost_matrix1(X,Y)\n",
    "\n"
   ]
  },
  {
   "cell_type": "code",
   "execution_count": 11,
   "id": "2db0054d-6289-4d92-89ad-e5f3f8fc90eb",
   "metadata": {},
   "outputs": [],
   "source": [
    "n,d=X.shape\n",
    "m=Y.shape[0]\n",
    "M=np.zeros((n,m))\n",
    "for i in range(d):\n",
    "    C=cost_matrix(X[:,i],Y[:,i])\n",
    "    M+=C"
   ]
  },
  {
   "cell_type": "code",
   "execution_count": 12,
   "id": "45e3b15d-7982-466e-b580-08148c08942a",
   "metadata": {},
   "outputs": [
    {
     "data": {
      "text/plain": [
       "array([[0.        , 0.90135148, 0.41514232, 0.34551195, 0.18547726],\n",
       "       [0.90135148, 0.        , 0.26437492, 0.32909686, 0.39636607],\n",
       "       [0.41514232, 0.26437492, 0.        , 0.25818232, 0.27336583],\n",
       "       [0.34551195, 0.32909686, 0.25818232, 0.        , 0.03560183],\n",
       "       [0.18547726, 0.39636607, 0.27336583, 0.03560183, 0.        ]])"
      ]
     },
     "execution_count": 12,
     "metadata": {},
     "output_type": "execute_result"
    }
   ],
   "source": [
    "M"
   ]
  },
  {
   "cell_type": "code",
   "execution_count": null,
   "id": "2a81a5e7-c19c-4fd6-943b-57b4962e5b7d",
   "metadata": {},
   "outputs": [],
   "source": []
  }
 ],
 "metadata": {
  "kernelspec": {
   "display_name": "Python 3 (ipykernel)",
   "language": "python",
   "name": "python3"
  },
  "language_info": {
   "codemirror_mode": {
    "name": "ipython",
    "version": 3
   },
   "file_extension": ".py",
   "mimetype": "text/x-python",
   "name": "python",
   "nbconvert_exporter": "python",
   "pygments_lexer": "ipython3",
   "version": "3.10.6"
  }
 },
 "nbformat": 4,
 "nbformat_minor": 5
}
